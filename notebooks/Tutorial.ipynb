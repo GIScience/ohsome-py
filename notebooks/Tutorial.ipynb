{
 "cells": [
  {
   "cell_type": "markdown",
   "metadata": {
    "pycharm": {}
   },
   "source": [
    "# Tutorial "
   ]
  },
  {
   "cell_type": "markdown",
   "metadata": {
    "pycharm": {}
   },
   "source": [
    "This notebook gives a short introduction on how to use the `ohsome` for sending requests to the ohsome API. We will perform a [Data Aggregation](https://api.ohsome.org/v0.9/swagger-ui.html?urls.primaryName=Data%20Aggregation) and [Data Extraction](https://api.ohsome.org/v0.9/swagger-ui.html?urls.primaryName=Data%20Extraction) queries.\n",
    "\n",
    "#### Please refer to the documentation for a full description of all endpoints and query parameters.\n",
    "\n",
    "&rarr; Endpoints refer to the [ohsome swagger documentation](https://api.ohsome.org/v1/swagger-ui.html?urls.primaryName=dataExtraction)\n",
    "\n",
    "&rarr; For more information on the parameters refer to the [ohsome API documentation](https://docs.ohsome.org/ohsome-api/stable/index.html), e.g. [filters](https://docs.ohsome.org/ohsome-api/stable/filter.html), [boundaries](https://docs.ohsome.org/ohsome-api/stable/boundaries.html), [time](https://docs.ohsome.org/ohsome-api/stable/time.html) and [grouping](https://docs.ohsome.org/ohsome-api/stable/group-by.html)."
   ]
  },
  {
   "cell_type": "markdown",
   "metadata": {},
   "source": [
    "##### Import packages"
   ]
  },
  {
   "cell_type": "code",
   "execution_count": 1,
   "metadata": {
    "pycharm": {}
   },
   "outputs": [],
   "source": [
    "import matplotlib.pyplot as plt\n",
    "%matplotlib inline"
   ]
  },
  {
   "cell_type": "code",
   "execution_count": 3,
   "metadata": {},
   "outputs": [],
   "source": [
    "import sys\n",
    "sys.path.append('..')"
   ]
  },
  {
   "cell_type": "markdown",
   "metadata": {},
   "source": [
    "## 1. Metadata"
   ]
  },
  {
   "cell_type": "markdown",
   "metadata": {
    "pycharm": {}
   },
   "source": [
    "All requests to the ohsome API are sent using an `OhsomeClient` object. "
   ]
  },
  {
   "cell_type": "code",
   "execution_count": 4,
   "metadata": {},
   "outputs": [],
   "source": [
    "from ohsome import OhsomeClient"
   ]
  },
  {
   "cell_type": "code",
   "execution_count": 5,
   "metadata": {},
   "outputs": [],
   "source": [
    "client = OhsomeClient()"
   ]
  },
  {
   "cell_type": "markdown",
   "metadata": {},
   "source": [
    "After its initialization you can query metadata of the ohsome API such as start and end timestamp, api version."
   ]
  },
  {
   "cell_type": "code",
   "execution_count": 11,
   "metadata": {},
   "outputs": [
    {
     "data": {
      "text/plain": [
       "'2007-10-08T00:00:00Z'"
      ]
     },
     "execution_count": 11,
     "metadata": {},
     "output_type": "execute_result"
    }
   ],
   "source": [
    "client.start_timestamp"
   ]
  },
  {
   "cell_type": "code",
   "execution_count": 12,
   "metadata": {},
   "outputs": [
    {
     "data": {
      "text/plain": [
       "'2021-01-30T03:00Z'"
      ]
     },
     "execution_count": 12,
     "metadata": {},
     "output_type": "execute_result"
    }
   ],
   "source": [
    "client.end_timestamp"
   ]
  },
  {
   "cell_type": "code",
   "execution_count": 13,
   "metadata": {},
   "outputs": [
    {
     "data": {
      "text/plain": [
       "'1.3.2'"
      ]
     },
     "execution_count": 13,
     "metadata": {},
     "output_type": "execute_result"
    }
   ],
   "source": [
    "client.api_version"
   ]
  },
  {
   "cell_type": "markdown",
   "metadata": {
    "pycharm": {}
   },
   "source": [
    "## 2. Data Aggregation"
   ]
  },
  {
   "cell_type": "markdown",
   "metadata": {},
   "source": [
    "To send a request to one of the endpoints, append the single components of the endpoint URL as method calls to the client. Use code completion (TAB in jupyter) to find valid endpoint components. In the end, call the `post()` method with all necessary parameters to send off the query as a POST request."
   ]
  },
  {
   "cell_type": "markdown",
   "metadata": {},
   "source": [
    "### Number of highways"
   ]
  },
  {
   "cell_type": "markdown",
   "metadata": {},
   "source": [
    "__Example:__ Number of features tagged as _highway=*_ within a bounding box in Heidelberg for the years 2010 and 2011. The call is sent to the endpoint [elements/count](https://api.ohsome.org/v1/swagger-ui.html?urls.primaryName=dataExtraction#/Count/count_1)"
   ]
  },
  {
   "cell_type": "code",
   "execution_count": 16,
   "metadata": {
    "pycharm": {}
   },
   "outputs": [],
   "source": [
    "bboxes = [8.67066,49.41423,8.68177,49.4204]\n",
    "time = \"2010-01-01/2011-01-01/P1Y\"\n",
    "filter = \"highway=* and type:way\""
   ]
  },
  {
   "cell_type": "code",
   "execution_count": 17,
   "metadata": {
    "pycharm": {}
   },
   "outputs": [],
   "source": [
    "response = client.elements.count.post(bboxes=bboxes, time=time, filter=filter)"
   ]
  },
  {
   "cell_type": "markdown",
   "metadata": {},
   "source": [
    "Calling `as_dataframe()` converts the response to a `pandas.DataFrame` with the timestamp as index."
   ]
  },
  {
   "cell_type": "code",
   "execution_count": 18,
   "metadata": {
    "pycharm": {}
   },
   "outputs": [],
   "source": [
    "response_df = response.as_dataframe()"
   ]
  },
  {
   "cell_type": "markdown",
   "metadata": {
    "pycharm": {}
   },
   "source": [
    "The result contains the number of highways for each time step:"
   ]
  },
  {
   "cell_type": "code",
   "execution_count": 7,
   "metadata": {
    "pycharm": {},
    "scrolled": true
   },
   "outputs": [
    {
     "data": {
      "text/html": [
       "<div>\n",
       "<style scoped>\n",
       "    .dataframe tbody tr th:only-of-type {\n",
       "        vertical-align: middle;\n",
       "    }\n",
       "\n",
       "    .dataframe tbody tr th {\n",
       "        vertical-align: top;\n",
       "    }\n",
       "\n",
       "    .dataframe thead th {\n",
       "        text-align: right;\n",
       "    }\n",
       "</style>\n",
       "<table border=\"1\" class=\"dataframe\">\n",
       "  <thead>\n",
       "    <tr style=\"text-align: right;\">\n",
       "      <th></th>\n",
       "      <th>value</th>\n",
       "    </tr>\n",
       "    <tr>\n",
       "      <th>timestamp</th>\n",
       "      <th></th>\n",
       "    </tr>\n",
       "  </thead>\n",
       "  <tbody>\n",
       "    <tr>\n",
       "      <th>2010-01-01</th>\n",
       "      <td>53.0</td>\n",
       "    </tr>\n",
       "    <tr>\n",
       "      <th>2011-01-01</th>\n",
       "      <td>256.0</td>\n",
       "    </tr>\n",
       "  </tbody>\n",
       "</table>\n",
       "</div>"
      ],
      "text/plain": [
       "            value\n",
       "timestamp        \n",
       "2010-01-01   53.0\n",
       "2011-01-01  256.0"
      ]
     },
     "execution_count": 7,
     "metadata": {},
     "output_type": "execute_result"
    }
   ],
   "source": [
    "response_df"
   ]
  },
  {
   "cell_type": "markdown",
   "metadata": {},
   "source": [
    "You can write the response to a JSON file using"
   ]
  },
  {
   "cell_type": "code",
   "execution_count": 8,
   "metadata": {},
   "outputs": [],
   "source": [
    "response.to_file(\"./highways_count.json\")"
   ]
  },
  {
   "cell_type": "markdown",
   "metadata": {},
   "source": [
    "### Group number of highways by boundary"
   ]
  },
  {
   "cell_type": "markdown",
   "metadata": {},
   "source": [
    "If you want to query the number of highways within several bounding boxes you can specify them using a nested list "
   ]
  },
  {
   "cell_type": "code",
   "execution_count": 70,
   "metadata": {},
   "outputs": [],
   "source": [
    "bboxes = [[8.67066,49.41423,8.68177,49.4204], [8.68551,49.40086,8.68937,49.40315]]"
   ]
  },
  {
   "cell_type": "markdown",
   "metadata": {},
   "source": [
    "or a dictionary if you want to pass ids "
   ]
  },
  {
   "cell_type": "code",
   "execution_count": 155,
   "metadata": {},
   "outputs": [],
   "source": [
    "bboxes = {\"INF\": [8.67066,49.41423,8.68177,49.4204], \"Weststadt\": [8.68551,49.40086,8.68937,49.40315]}"
   ]
  },
  {
   "cell_type": "markdown",
   "metadata": {},
   "source": [
    "To get separate counts for the bounding boxs, we need to ad `groupByBoundary` to the query."
   ]
  },
  {
   "cell_type": "code",
   "execution_count": 72,
   "metadata": {},
   "outputs": [
    {
     "data": {
      "text/html": [
       "<div>\n",
       "<style scoped>\n",
       "    .dataframe tbody tr th:only-of-type {\n",
       "        vertical-align: middle;\n",
       "    }\n",
       "\n",
       "    .dataframe tbody tr th {\n",
       "        vertical-align: top;\n",
       "    }\n",
       "\n",
       "    .dataframe thead th {\n",
       "        text-align: right;\n",
       "    }\n",
       "</style>\n",
       "<table border=\"1\" class=\"dataframe\">\n",
       "  <thead>\n",
       "    <tr style=\"text-align: right;\">\n",
       "      <th></th>\n",
       "      <th></th>\n",
       "      <th>value</th>\n",
       "    </tr>\n",
       "    <tr>\n",
       "      <th>boundary</th>\n",
       "      <th>timestamp</th>\n",
       "      <th></th>\n",
       "    </tr>\n",
       "  </thead>\n",
       "  <tbody>\n",
       "    <tr>\n",
       "      <th rowspan=\"2\" valign=\"top\">INF</th>\n",
       "      <th>2010-01-01 00:00:00+00:00</th>\n",
       "      <td>269.0</td>\n",
       "    </tr>\n",
       "    <tr>\n",
       "      <th>2011-01-01 00:00:00+00:00</th>\n",
       "      <td>291.0</td>\n",
       "    </tr>\n",
       "    <tr>\n",
       "      <th rowspan=\"2\" valign=\"top\">Weststadt</th>\n",
       "      <th>2010-01-01 00:00:00+00:00</th>\n",
       "      <td>13.0</td>\n",
       "    </tr>\n",
       "    <tr>\n",
       "      <th>2011-01-01 00:00:00+00:00</th>\n",
       "      <td>13.0</td>\n",
       "    </tr>\n",
       "  </tbody>\n",
       "</table>\n",
       "</div>"
      ],
      "text/plain": [
       "                                     value\n",
       "boundary  timestamp                       \n",
       "INF       2010-01-01 00:00:00+00:00  269.0\n",
       "          2011-01-01 00:00:00+00:00  291.0\n",
       "Weststadt 2010-01-01 00:00:00+00:00   13.0\n",
       "          2011-01-01 00:00:00+00:00   13.0"
      ]
     },
     "execution_count": 72,
     "metadata": {},
     "output_type": "execute_result"
    }
   ],
   "source": [
    "response = client.elements.count.groupByBoundary.post(bboxes=bboxes, time=time, filter=filter)\n",
    "response_df = response.as_dataframe()\n",
    "response_df"
   ]
  },
  {
   "cell_type": "markdown",
   "metadata": {},
   "source": [
    "The response is converted to a dataframe with a `MultiIndex`, which makes it easier to select subsets of the data based on the boundary and time attributes."
   ]
  },
  {
   "cell_type": "code",
   "execution_count": 73,
   "metadata": {},
   "outputs": [
    {
     "data": {
      "text/html": [
       "<div>\n",
       "<style scoped>\n",
       "    .dataframe tbody tr th:only-of-type {\n",
       "        vertical-align: middle;\n",
       "    }\n",
       "\n",
       "    .dataframe tbody tr th {\n",
       "        vertical-align: top;\n",
       "    }\n",
       "\n",
       "    .dataframe thead th {\n",
       "        text-align: right;\n",
       "    }\n",
       "</style>\n",
       "<table border=\"1\" class=\"dataframe\">\n",
       "  <thead>\n",
       "    <tr style=\"text-align: right;\">\n",
       "      <th></th>\n",
       "      <th></th>\n",
       "      <th>value</th>\n",
       "    </tr>\n",
       "    <tr>\n",
       "      <th>boundary</th>\n",
       "      <th>timestamp</th>\n",
       "      <th></th>\n",
       "    </tr>\n",
       "  </thead>\n",
       "  <tbody>\n",
       "    <tr>\n",
       "      <th rowspan=\"2\" valign=\"top\">INF</th>\n",
       "      <th>2010-01-01 00:00:00+00:00</th>\n",
       "      <td>269.0</td>\n",
       "    </tr>\n",
       "    <tr>\n",
       "      <th>2011-01-01 00:00:00+00:00</th>\n",
       "      <td>291.0</td>\n",
       "    </tr>\n",
       "  </tbody>\n",
       "</table>\n",
       "</div>"
      ],
      "text/plain": [
       "                                    value\n",
       "boundary timestamp                       \n",
       "INF      2010-01-01 00:00:00+00:00  269.0\n",
       "         2011-01-01 00:00:00+00:00  291.0"
      ]
     },
     "execution_count": 73,
     "metadata": {},
     "output_type": "execute_result"
    }
   ],
   "source": [
    "response_df.loc[(\"INF\", slice(None)),:]"
   ]
  },
  {
   "cell_type": "code",
   "execution_count": 74,
   "metadata": {
    "scrolled": true
   },
   "outputs": [
    {
     "data": {
      "text/html": [
       "<div>\n",
       "<style scoped>\n",
       "    .dataframe tbody tr th:only-of-type {\n",
       "        vertical-align: middle;\n",
       "    }\n",
       "\n",
       "    .dataframe tbody tr th {\n",
       "        vertical-align: top;\n",
       "    }\n",
       "\n",
       "    .dataframe thead th {\n",
       "        text-align: right;\n",
       "    }\n",
       "</style>\n",
       "<table border=\"1\" class=\"dataframe\">\n",
       "  <thead>\n",
       "    <tr style=\"text-align: right;\">\n",
       "      <th></th>\n",
       "      <th></th>\n",
       "      <th>value</th>\n",
       "    </tr>\n",
       "    <tr>\n",
       "      <th>boundary</th>\n",
       "      <th>timestamp</th>\n",
       "      <th></th>\n",
       "    </tr>\n",
       "  </thead>\n",
       "  <tbody>\n",
       "    <tr>\n",
       "      <th>INF</th>\n",
       "      <th>2010-01-01 00:00:00+00:00</th>\n",
       "      <td>269.0</td>\n",
       "    </tr>\n",
       "    <tr>\n",
       "      <th>Weststadt</th>\n",
       "      <th>2010-01-01 00:00:00+00:00</th>\n",
       "      <td>13.0</td>\n",
       "    </tr>\n",
       "  </tbody>\n",
       "</table>\n",
       "</div>"
      ],
      "text/plain": [
       "                                     value\n",
       "boundary  timestamp                       \n",
       "INF       2010-01-01 00:00:00+00:00  269.0\n",
       "Weststadt 2010-01-01 00:00:00+00:00   13.0"
      ]
     },
     "execution_count": 74,
     "metadata": {},
     "output_type": "execute_result"
    }
   ],
   "source": [
    "response_df.loc[(slice(None), \"2010-01-01\"),:]"
   ]
  },
  {
   "cell_type": "markdown",
   "metadata": {},
   "source": [
    "### Group number of highways by boundary and tag"
   ]
  },
  {
   "cell_type": "markdown",
   "metadata": {},
   "source": [
    "Grouping the result by tag, will result in a dataframe with three index levels."
   ]
  },
  {
   "cell_type": "code",
   "execution_count": 156,
   "metadata": {},
   "outputs": [],
   "source": [
    "groupByKey = \"highway\"\n",
    "filter = \"highway=* and type:way\"\n",
    "response = client.elements.count.groupByBoundary.groupByTag.post(bboxes=bboxes, time=time, \n",
    "                                                                 filter=filter, groupByKey=groupByKey)\n",
    "response_df = response.as_dataframe()"
   ]
  },
  {
   "cell_type": "code",
   "execution_count": 161,
   "metadata": {},
   "outputs": [
    {
     "data": {
      "text/html": [
       "<div>\n",
       "<style scoped>\n",
       "    .dataframe tbody tr th:only-of-type {\n",
       "        vertical-align: middle;\n",
       "    }\n",
       "\n",
       "    .dataframe tbody tr th {\n",
       "        vertical-align: top;\n",
       "    }\n",
       "\n",
       "    .dataframe thead th {\n",
       "        text-align: right;\n",
       "    }\n",
       "</style>\n",
       "<table border=\"1\" class=\"dataframe\">\n",
       "  <thead>\n",
       "    <tr style=\"text-align: right;\">\n",
       "      <th></th>\n",
       "      <th></th>\n",
       "      <th>value</th>\n",
       "    </tr>\n",
       "    <tr>\n",
       "      <th>boundary</th>\n",
       "      <th>tag</th>\n",
       "      <th></th>\n",
       "    </tr>\n",
       "  </thead>\n",
       "  <tbody>\n",
       "    <tr>\n",
       "      <th rowspan=\"14\" valign=\"top\">INF</th>\n",
       "      <th>highway=access_ramp</th>\n",
       "      <td>0.0</td>\n",
       "    </tr>\n",
       "    <tr>\n",
       "      <th>highway=construction</th>\n",
       "      <td>0.0</td>\n",
       "    </tr>\n",
       "    <tr>\n",
       "      <th>highway=corridor</th>\n",
       "      <td>0.0</td>\n",
       "    </tr>\n",
       "    <tr>\n",
       "      <th>highway=cycleway</th>\n",
       "      <td>5.0</td>\n",
       "    </tr>\n",
       "    <tr>\n",
       "      <th>highway=footway</th>\n",
       "      <td>116.0</td>\n",
       "    </tr>\n",
       "    <tr>\n",
       "      <th>highway=living_street</th>\n",
       "      <td>0.0</td>\n",
       "    </tr>\n",
       "    <tr>\n",
       "      <th>highway=path</th>\n",
       "      <td>6.0</td>\n",
       "    </tr>\n",
       "    <tr>\n",
       "      <th>highway=pedestrian</th>\n",
       "      <td>8.0</td>\n",
       "    </tr>\n",
       "    <tr>\n",
       "      <th>highway=primary</th>\n",
       "      <td>8.0</td>\n",
       "    </tr>\n",
       "    <tr>\n",
       "      <th>highway=residential</th>\n",
       "      <td>20.0</td>\n",
       "    </tr>\n",
       "    <tr>\n",
       "      <th>highway=service</th>\n",
       "      <td>77.0</td>\n",
       "    </tr>\n",
       "    <tr>\n",
       "      <th>highway=steps</th>\n",
       "      <td>9.0</td>\n",
       "    </tr>\n",
       "    <tr>\n",
       "      <th>highway=track</th>\n",
       "      <td>3.0</td>\n",
       "    </tr>\n",
       "    <tr>\n",
       "      <th>highway=unclassified</th>\n",
       "      <td>17.0</td>\n",
       "    </tr>\n",
       "    <tr>\n",
       "      <th rowspan=\"14\" valign=\"top\">Weststadt</th>\n",
       "      <th>highway=access_ramp</th>\n",
       "      <td>0.0</td>\n",
       "    </tr>\n",
       "    <tr>\n",
       "      <th>highway=construction</th>\n",
       "      <td>0.0</td>\n",
       "    </tr>\n",
       "    <tr>\n",
       "      <th>highway=corridor</th>\n",
       "      <td>0.0</td>\n",
       "    </tr>\n",
       "    <tr>\n",
       "      <th>highway=cycleway</th>\n",
       "      <td>0.0</td>\n",
       "    </tr>\n",
       "    <tr>\n",
       "      <th>highway=footway</th>\n",
       "      <td>1.0</td>\n",
       "    </tr>\n",
       "    <tr>\n",
       "      <th>highway=living_street</th>\n",
       "      <td>11.0</td>\n",
       "    </tr>\n",
       "    <tr>\n",
       "      <th>highway=path</th>\n",
       "      <td>0.0</td>\n",
       "    </tr>\n",
       "    <tr>\n",
       "      <th>highway=pedestrian</th>\n",
       "      <td>0.0</td>\n",
       "    </tr>\n",
       "    <tr>\n",
       "      <th>highway=primary</th>\n",
       "      <td>0.0</td>\n",
       "    </tr>\n",
       "    <tr>\n",
       "      <th>highway=residential</th>\n",
       "      <td>1.0</td>\n",
       "    </tr>\n",
       "    <tr>\n",
       "      <th>highway=service</th>\n",
       "      <td>0.0</td>\n",
       "    </tr>\n",
       "    <tr>\n",
       "      <th>highway=steps</th>\n",
       "      <td>0.0</td>\n",
       "    </tr>\n",
       "    <tr>\n",
       "      <th>highway=track</th>\n",
       "      <td>0.0</td>\n",
       "    </tr>\n",
       "    <tr>\n",
       "      <th>highway=unclassified</th>\n",
       "      <td>0.0</td>\n",
       "    </tr>\n",
       "  </tbody>\n",
       "</table>\n",
       "</div>"
      ],
      "text/plain": [
       "                                 value\n",
       "boundary  tag                         \n",
       "INF       highway=access_ramp      0.0\n",
       "          highway=construction     0.0\n",
       "          highway=corridor         0.0\n",
       "          highway=cycleway         5.0\n",
       "          highway=footway        116.0\n",
       "          highway=living_street    0.0\n",
       "          highway=path             6.0\n",
       "          highway=pedestrian       8.0\n",
       "          highway=primary          8.0\n",
       "          highway=residential     20.0\n",
       "          highway=service         77.0\n",
       "          highway=steps            9.0\n",
       "          highway=track            3.0\n",
       "          highway=unclassified    17.0\n",
       "Weststadt highway=access_ramp      0.0\n",
       "          highway=construction     0.0\n",
       "          highway=corridor         0.0\n",
       "          highway=cycleway         0.0\n",
       "          highway=footway          1.0\n",
       "          highway=living_street   11.0\n",
       "          highway=path             0.0\n",
       "          highway=pedestrian       0.0\n",
       "          highway=primary          0.0\n",
       "          highway=residential      1.0\n",
       "          highway=service          0.0\n",
       "          highway=steps            0.0\n",
       "          highway=track            0.0\n",
       "          highway=unclassified     0.0"
      ]
     },
     "execution_count": 161,
     "metadata": {},
     "output_type": "execute_result"
    }
   ],
   "source": [
    "response_df.sort_index().loc[(slice(None), slice(None), \"2010-01-01\"),:].droplevel(2)"
   ]
  },
  {
   "cell_type": "markdown",
   "metadata": {
    "pycharm": {}
   },
   "source": [
    "## 2. Data Extraction"
   ]
  },
  {
   "cell_type": "markdown",
   "metadata": {
    "pycharm": {}
   },
   "source": [
    "You can also download OSM features (and optionally their history) at any timestamp using the [Data Extraction](https://api.ohsome.org/v0.9/swagger-ui.html?urls.primaryName=Data%20Extraction) endpoints."
   ]
  },
  {
   "cell_type": "code",
   "execution_count": 77,
   "metadata": {},
   "outputs": [],
   "source": [
    "client = OhsomeClient()"
   ]
  },
  {
   "cell_type": "markdown",
   "metadata": {},
   "source": [
    "### Extracting buildings\n",
    "\n",
    "Extracting OSM features at a specific point in time is done through the [elements/geometry](https://api.ohsome.org/v1/swagger-ui.html?urls.primaryName=Data%20Extraction#/) endpoint. It is also possible to only retrieve the [centroids](https://api.ohsome.org/v1/swagger-ui.html?urls.primaryName=Data%20Extraction#/Data%20Extraction/centroid_1) or [bounding boxes](https://api.ohsome.org/v1/swagger-ui.html?urls.primaryName=Data%20Extraction#/Data%20Extraction/bbox_1) of the features. "
   ]
  },
  {
   "cell_type": "markdown",
   "metadata": {},
   "source": [
    "__Example:__ Extract all building features with their geometry on 2010-01-01 at Heidelberg University. "
   ]
  },
  {
   "cell_type": "code",
   "execution_count": 83,
   "metadata": {
    "pycharm": {}
   },
   "outputs": [],
   "source": [
    "bboxes = [8.67066,49.41423,8.68177,49.4204]\n",
    "time = \"2020-01-01\"\n",
    "filter = \"building=* and type:way\"\n",
    "properties = \"tags\" # to retreive OSM tags along with the geometries"
   ]
  },
  {
   "cell_type": "code",
   "execution_count": 79,
   "metadata": {
    "pycharm": {}
   },
   "outputs": [],
   "source": [
    "response = client.elements.geometry.post(bboxes=bboxes, time=time, filter=filter, properties=properties)"
   ]
  },
  {
   "cell_type": "markdown",
   "metadata": {},
   "source": [
    "Calling `as_geodataframe()` converts the response to a `geopandas.GeoDataFrame`."
   ]
  },
  {
   "cell_type": "code",
   "execution_count": 80,
   "metadata": {
    "pycharm": {}
   },
   "outputs": [
    {
     "name": "stderr",
     "output_type": "stream",
     "text": [
      "/Users/chludwig/miniconda3/envs/ohsomedev/lib/python3.8/site-packages/pyproj/crs/crs.py:53: FutureWarning: '+init=<authority>:<code>' syntax is deprecated. '<authority>:<code>' is the preferred initialization method. When making the change, be mindful of axis order changes: https://pyproj4.github.io/pyproj/stable/gotchas.html#axis-order-changes-in-proj-6\n",
      "  return _prepare_from_string(\" \".join(pjargs))\n"
     ]
    }
   ],
   "source": [
    "response_gdf = response.as_geodataframe()"
   ]
  },
  {
   "cell_type": "code",
   "execution_count": 81,
   "metadata": {},
   "outputs": [
    {
     "data": {
      "text/html": [
       "<div>\n",
       "<style scoped>\n",
       "    .dataframe tbody tr th:only-of-type {\n",
       "        vertical-align: middle;\n",
       "    }\n",
       "\n",
       "    .dataframe tbody tr th {\n",
       "        vertical-align: top;\n",
       "    }\n",
       "\n",
       "    .dataframe thead th {\n",
       "        text-align: right;\n",
       "    }\n",
       "</style>\n",
       "<table border=\"1\" class=\"dataframe\">\n",
       "  <thead>\n",
       "    <tr style=\"text-align: right;\">\n",
       "      <th></th>\n",
       "      <th></th>\n",
       "      <th>geometry</th>\n",
       "      <th>addr:housenumber</th>\n",
       "      <th>addr:street</th>\n",
       "      <th>amenity</th>\n",
       "      <th>building</th>\n",
       "      <th>name</th>\n",
       "      <th>access</th>\n",
       "      <th>fee</th>\n",
       "      <th>parking</th>\n",
       "      <th>building:levels</th>\n",
       "      <th>description</th>\n",
       "      <th>created_by</th>\n",
       "      <th>place_numbers</th>\n",
       "      <th>alt_name</th>\n",
       "      <th>addr:city</th>\n",
       "      <th>note</th>\n",
       "    </tr>\n",
       "    <tr>\n",
       "      <th>@osmId</th>\n",
       "      <th>@snapshotTimestamp</th>\n",
       "      <th></th>\n",
       "      <th></th>\n",
       "      <th></th>\n",
       "      <th></th>\n",
       "      <th></th>\n",
       "      <th></th>\n",
       "      <th></th>\n",
       "      <th></th>\n",
       "      <th></th>\n",
       "      <th></th>\n",
       "      <th></th>\n",
       "      <th></th>\n",
       "      <th></th>\n",
       "      <th></th>\n",
       "      <th></th>\n",
       "      <th></th>\n",
       "    </tr>\n",
       "  </thead>\n",
       "  <tbody>\n",
       "    <tr>\n",
       "      <th>way/25205983</th>\n",
       "      <th>2010-01-01</th>\n",
       "      <td>POLYGON ((8.67312 49.42040, 8.67312 49.42027, ...</td>\n",
       "      <td>535</td>\n",
       "      <td>Im Neuenheimer Feld</td>\n",
       "      <td>university</td>\n",
       "      <td>yes</td>\n",
       "      <td>Max-Planck-Institut für ausländisches öffentli...</td>\n",
       "      <td>NaN</td>\n",
       "      <td>NaN</td>\n",
       "      <td>NaN</td>\n",
       "      <td>NaN</td>\n",
       "      <td>NaN</td>\n",
       "      <td>NaN</td>\n",
       "      <td>NaN</td>\n",
       "      <td>NaN</td>\n",
       "      <td>NaN</td>\n",
       "      <td>NaN</td>\n",
       "    </tr>\n",
       "    <tr>\n",
       "      <th>way/25208838</th>\n",
       "      <th>2010-01-01</th>\n",
       "      <td>POLYGON ((8.67548 49.42040, 8.67549 49.42024, ...</td>\n",
       "      <td>522</td>\n",
       "      <td>Im Neuenheimer Feld</td>\n",
       "      <td>NaN</td>\n",
       "      <td>yes</td>\n",
       "      <td>NaN</td>\n",
       "      <td>NaN</td>\n",
       "      <td>NaN</td>\n",
       "      <td>NaN</td>\n",
       "      <td>NaN</td>\n",
       "      <td>NaN</td>\n",
       "      <td>NaN</td>\n",
       "      <td>NaN</td>\n",
       "      <td>NaN</td>\n",
       "      <td>NaN</td>\n",
       "      <td>NaN</td>\n",
       "    </tr>\n",
       "    <tr>\n",
       "      <th>way/25238615</th>\n",
       "      <th>2010-01-01</th>\n",
       "      <td>POLYGON ((8.67596 49.41583, 8.67524 49.41581, ...</td>\n",
       "      <td>NaN</td>\n",
       "      <td>NaN</td>\n",
       "      <td>parking</td>\n",
       "      <td>yes</td>\n",
       "      <td>NaN</td>\n",
       "      <td>private</td>\n",
       "      <td>yes</td>\n",
       "      <td>multi-storey</td>\n",
       "      <td>NaN</td>\n",
       "      <td>NaN</td>\n",
       "      <td>NaN</td>\n",
       "      <td>NaN</td>\n",
       "      <td>NaN</td>\n",
       "      <td>NaN</td>\n",
       "      <td>NaN</td>\n",
       "    </tr>\n",
       "    <tr>\n",
       "      <th>way/25298190</th>\n",
       "      <th>2010-01-01</th>\n",
       "      <td>POLYGON ((8.67433 49.42014, 8.67433 49.41999, ...</td>\n",
       "      <td>501</td>\n",
       "      <td>Im Neuenheimer Feld</td>\n",
       "      <td>university</td>\n",
       "      <td>yes</td>\n",
       "      <td>Fakultät für Physik + Astronomie</td>\n",
       "      <td>NaN</td>\n",
       "      <td>NaN</td>\n",
       "      <td>NaN</td>\n",
       "      <td>NaN</td>\n",
       "      <td>NaN</td>\n",
       "      <td>NaN</td>\n",
       "      <td>NaN</td>\n",
       "      <td>NaN</td>\n",
       "      <td>NaN</td>\n",
       "      <td>NaN</td>\n",
       "    </tr>\n",
       "    <tr>\n",
       "      <th>way/25298192</th>\n",
       "      <th>2010-01-01</th>\n",
       "      <td>POLYGON ((8.67426 49.42040, 8.67426 49.42037, ...</td>\n",
       "      <td>502</td>\n",
       "      <td>Im Neuenheimer Feld</td>\n",
       "      <td>university</td>\n",
       "      <td>yes</td>\n",
       "      <td>NaN</td>\n",
       "      <td>NaN</td>\n",
       "      <td>NaN</td>\n",
       "      <td>NaN</td>\n",
       "      <td>NaN</td>\n",
       "      <td>NaN</td>\n",
       "      <td>NaN</td>\n",
       "      <td>NaN</td>\n",
       "      <td>NaN</td>\n",
       "      <td>NaN</td>\n",
       "      <td>NaN</td>\n",
       "    </tr>\n",
       "  </tbody>\n",
       "</table>\n",
       "</div>"
      ],
      "text/plain": [
       "                                                                          geometry  \\\n",
       "@osmId       @snapshotTimestamp                                                      \n",
       "way/25205983 2010-01-01          POLYGON ((8.67312 49.42040, 8.67312 49.42027, ...   \n",
       "way/25208838 2010-01-01          POLYGON ((8.67548 49.42040, 8.67549 49.42024, ...   \n",
       "way/25238615 2010-01-01          POLYGON ((8.67596 49.41583, 8.67524 49.41581, ...   \n",
       "way/25298190 2010-01-01          POLYGON ((8.67433 49.42014, 8.67433 49.41999, ...   \n",
       "way/25298192 2010-01-01          POLYGON ((8.67426 49.42040, 8.67426 49.42037, ...   \n",
       "\n",
       "                                addr:housenumber          addr:street  \\\n",
       "@osmId       @snapshotTimestamp                                         \n",
       "way/25205983 2010-01-01                      535  Im Neuenheimer Feld   \n",
       "way/25208838 2010-01-01                      522  Im Neuenheimer Feld   \n",
       "way/25238615 2010-01-01                      NaN                  NaN   \n",
       "way/25298190 2010-01-01                      501  Im Neuenheimer Feld   \n",
       "way/25298192 2010-01-01                      502  Im Neuenheimer Feld   \n",
       "\n",
       "                                    amenity building  \\\n",
       "@osmId       @snapshotTimestamp                        \n",
       "way/25205983 2010-01-01          university      yes   \n",
       "way/25208838 2010-01-01                 NaN      yes   \n",
       "way/25238615 2010-01-01             parking      yes   \n",
       "way/25298190 2010-01-01          university      yes   \n",
       "way/25298192 2010-01-01          university      yes   \n",
       "\n",
       "                                                                              name  \\\n",
       "@osmId       @snapshotTimestamp                                                      \n",
       "way/25205983 2010-01-01          Max-Planck-Institut für ausländisches öffentli...   \n",
       "way/25208838 2010-01-01                                                        NaN   \n",
       "way/25238615 2010-01-01                                                        NaN   \n",
       "way/25298190 2010-01-01                           Fakultät für Physik + Astronomie   \n",
       "way/25298192 2010-01-01                                                        NaN   \n",
       "\n",
       "                                  access  fee       parking building:levels  \\\n",
       "@osmId       @snapshotTimestamp                                               \n",
       "way/25205983 2010-01-01              NaN  NaN           NaN             NaN   \n",
       "way/25208838 2010-01-01              NaN  NaN           NaN             NaN   \n",
       "way/25238615 2010-01-01          private  yes  multi-storey             NaN   \n",
       "way/25298190 2010-01-01              NaN  NaN           NaN             NaN   \n",
       "way/25298192 2010-01-01              NaN  NaN           NaN             NaN   \n",
       "\n",
       "                                description created_by place_numbers alt_name  \\\n",
       "@osmId       @snapshotTimestamp                                                 \n",
       "way/25205983 2010-01-01                 NaN        NaN           NaN      NaN   \n",
       "way/25208838 2010-01-01                 NaN        NaN           NaN      NaN   \n",
       "way/25238615 2010-01-01                 NaN        NaN           NaN      NaN   \n",
       "way/25298190 2010-01-01                 NaN        NaN           NaN      NaN   \n",
       "way/25298192 2010-01-01                 NaN        NaN           NaN      NaN   \n",
       "\n",
       "                                addr:city note  \n",
       "@osmId       @snapshotTimestamp                 \n",
       "way/25205983 2010-01-01               NaN  NaN  \n",
       "way/25208838 2010-01-01               NaN  NaN  \n",
       "way/25238615 2010-01-01               NaN  NaN  \n",
       "way/25298190 2010-01-01               NaN  NaN  \n",
       "way/25298192 2010-01-01               NaN  NaN  "
      ]
     },
     "execution_count": 81,
     "metadata": {},
     "output_type": "execute_result"
    }
   ],
   "source": [
    "response_gdf.head()"
   ]
  },
  {
   "cell_type": "code",
   "execution_count": 82,
   "metadata": {
    "pycharm": {},
    "scrolled": true
   },
   "outputs": [
    {
     "data": {
      "text/plain": [
       "<matplotlib.axes._subplots.AxesSubplot at 0x7ffce29c0820>"
      ]
     },
     "execution_count": 82,
     "metadata": {},
     "output_type": "execute_result"
    },
    {
     "data": {
      "image/png": "[encoded data removed]",
      "text/plain": [
       "<Figure size 432x288 with 1 Axes>"
      ]
     },
     "metadata": {
      "needs_background": "light"
     },
     "output_type": "display_data"
    }
   ],
   "source": [
    "response_gdf.plot()"
   ]
  },
  {
   "cell_type": "markdown",
   "metadata": {},
   "source": [
    "You may write the reponse to file using"
   ]
  },
  {
   "cell_type": "code",
   "execution_count": 16,
   "metadata": {
    "pycharm": {}
   },
   "outputs": [],
   "source": [
    "response.to_file(\"./buildings_inf.geojson\")"
   ]
  },
  {
   "cell_type": "markdown",
   "metadata": {},
   "source": [
    "### Extracting Full History of OSM building \n",
    "\n",
    "Using the [elementsFullHistory](https://api.ohsome.org/v1/swagger-ui.html?urls.primaryName=Data%20Extraction#/Full-History%20Data%20Extraction/fullHistory_1) endpoints you can query all versions of the OSM features within a time period. "
   ]
  },
  {
   "cell_type": "markdown",
   "metadata": {},
   "source": [
    "__Example:__ Extract all buildings features with their history between 2010 and 2018."
   ]
  },
  {
   "cell_type": "code",
   "execution_count": 84,
   "metadata": {},
   "outputs": [],
   "source": [
    "bboxes = \"8.67066,49.41423,8.68177,49.4204\"\n",
    "time = \"2010-01-01,2018-01-01\"\n",
    "filter = \"building=* and type:way\"\n",
    "properties = \"tags\" # to retreive OSM tags along with the geometries"
   ]
  },
  {
   "cell_type": "code",
   "execution_count": 85,
   "metadata": {
    "pycharm": {}
   },
   "outputs": [],
   "source": [
    "client = OhsomeClient()\n",
    "response = client.elementsFullHistory.geometry.post(bboxes=bboxes, time=time, filter=filter, properties=properties)"
   ]
  },
  {
   "cell_type": "markdown",
   "metadata": {},
   "source": [
    "Using the method `as_geodataframe()` the response is converted to a `GeoDataFrame` with a multiindex containing OSM ID, validFrom and validTo parameters."
   ]
  },
  {
   "cell_type": "code",
   "execution_count": 125,
   "metadata": {},
   "outputs": [
    {
     "name": "stderr",
     "output_type": "stream",
     "text": [
      "/Users/chludwig/miniconda3/envs/ohsomedev/lib/python3.8/site-packages/pyproj/crs/crs.py:53: FutureWarning: '+init=<authority>:<code>' syntax is deprecated. '<authority>:<code>' is the preferred initialization method. When making the change, be mindful of axis order changes: https://pyproj4.github.io/pyproj/stable/gotchas.html#axis-order-changes-in-proj-6\n",
      "  return _prepare_from_string(\" \".join(pjargs))\n"
     ]
    },
    {
     "data": {
      "text/html": [
       "<div>\n",
       "<style scoped>\n",
       "    .dataframe tbody tr th:only-of-type {\n",
       "        vertical-align: middle;\n",
       "    }\n",
       "\n",
       "    .dataframe tbody tr th {\n",
       "        vertical-align: top;\n",
       "    }\n",
       "\n",
       "    .dataframe thead th {\n",
       "        text-align: right;\n",
       "    }\n",
       "</style>\n",
       "<table border=\"1\" class=\"dataframe\">\n",
       "  <thead>\n",
       "    <tr style=\"text-align: right;\">\n",
       "      <th></th>\n",
       "      <th></th>\n",
       "      <th></th>\n",
       "      <th>geometry</th>\n",
       "      <th>addr:housenumber</th>\n",
       "      <th>building</th>\n",
       "      <th>building:material</th>\n",
       "      <th>addr:city</th>\n",
       "      <th>addr:postcode</th>\n",
       "      <th>addr:province</th>\n",
       "      <th>addr:street</th>\n",
       "      <th>amenity</th>\n",
       "      <th>name</th>\n",
       "      <th>...</th>\n",
       "      <th>fuel:octane_95</th>\n",
       "      <th>atm</th>\n",
       "      <th>wheelchair:toilet</th>\n",
       "      <th>books</th>\n",
       "      <th>shop</th>\n",
       "      <th>university</th>\n",
       "      <th>INF 230</th>\n",
       "      <th>layer</th>\n",
       "      <th>construction</th>\n",
       "      <th>stairwell</th>\n",
       "    </tr>\n",
       "    <tr>\n",
       "      <th>@osmId</th>\n",
       "      <th>@validFrom</th>\n",
       "      <th>@validTo</th>\n",
       "      <th></th>\n",
       "      <th></th>\n",
       "      <th></th>\n",
       "      <th></th>\n",
       "      <th></th>\n",
       "      <th></th>\n",
       "      <th></th>\n",
       "      <th></th>\n",
       "      <th></th>\n",
       "      <th></th>\n",
       "      <th></th>\n",
       "      <th></th>\n",
       "      <th></th>\n",
       "      <th></th>\n",
       "      <th></th>\n",
       "      <th></th>\n",
       "      <th></th>\n",
       "      <th></th>\n",
       "      <th></th>\n",
       "      <th></th>\n",
       "      <th></th>\n",
       "    </tr>\n",
       "  </thead>\n",
       "  <tbody>\n",
       "    <tr>\n",
       "      <th>way/399317554</th>\n",
       "      <th>2016-02-22 21:12:04</th>\n",
       "      <th>2016-02-22 21:50:18</th>\n",
       "      <td>POLYGON ((8.67066 49.41423, 8.67066 49.42040, ...</td>\n",
       "      <td>cll 24 # 23-56</td>\n",
       "      <td>residential</td>\n",
       "      <td>brick</td>\n",
       "      <td>NaN</td>\n",
       "      <td>NaN</td>\n",
       "      <td>NaN</td>\n",
       "      <td>NaN</td>\n",
       "      <td>NaN</td>\n",
       "      <td>NaN</td>\n",
       "      <td>...</td>\n",
       "      <td>NaN</td>\n",
       "      <td>NaN</td>\n",
       "      <td>NaN</td>\n",
       "      <td>NaN</td>\n",
       "      <td>NaN</td>\n",
       "      <td>NaN</td>\n",
       "      <td>NaN</td>\n",
       "      <td>NaN</td>\n",
       "      <td>NaN</td>\n",
       "      <td>NaN</td>\n",
       "    </tr>\n",
       "    <tr>\n",
       "      <th>way/450702564</th>\n",
       "      <th>2016-11-02 06:13:58</th>\n",
       "      <th>2016-11-02 09:06:17</th>\n",
       "      <td>POLYGON ((8.67066 49.41423, 8.67066 49.42040, ...</td>\n",
       "      <td>NaN</td>\n",
       "      <td>yes</td>\n",
       "      <td>NaN</td>\n",
       "      <td>Cagayan De Oro</td>\n",
       "      <td>9000</td>\n",
       "      <td>Misamis Oriental</td>\n",
       "      <td>NaN</td>\n",
       "      <td>NaN</td>\n",
       "      <td>NaN</td>\n",
       "      <td>...</td>\n",
       "      <td>NaN</td>\n",
       "      <td>NaN</td>\n",
       "      <td>NaN</td>\n",
       "      <td>NaN</td>\n",
       "      <td>NaN</td>\n",
       "      <td>NaN</td>\n",
       "      <td>NaN</td>\n",
       "      <td>NaN</td>\n",
       "      <td>NaN</td>\n",
       "      <td>NaN</td>\n",
       "    </tr>\n",
       "    <tr>\n",
       "      <th rowspan=\"3\" valign=\"top\">way/25205983</th>\n",
       "      <th>2010-01-01 00:00:00</th>\n",
       "      <th>2011-12-14 21:04:31</th>\n",
       "      <td>POLYGON ((8.67312 49.42040, 8.67312 49.42027, ...</td>\n",
       "      <td>535</td>\n",
       "      <td>yes</td>\n",
       "      <td>NaN</td>\n",
       "      <td>NaN</td>\n",
       "      <td>NaN</td>\n",
       "      <td>NaN</td>\n",
       "      <td>Im Neuenheimer Feld</td>\n",
       "      <td>university</td>\n",
       "      <td>Max-Planck-Institut für ausländisches öffentli...</td>\n",
       "      <td>...</td>\n",
       "      <td>NaN</td>\n",
       "      <td>NaN</td>\n",
       "      <td>NaN</td>\n",
       "      <td>NaN</td>\n",
       "      <td>NaN</td>\n",
       "      <td>NaN</td>\n",
       "      <td>NaN</td>\n",
       "      <td>NaN</td>\n",
       "      <td>NaN</td>\n",
       "      <td>NaN</td>\n",
       "    </tr>\n",
       "    <tr>\n",
       "      <th>2011-12-14 21:04:31</th>\n",
       "      <th>2012-02-24 14:17:07</th>\n",
       "      <td>POLYGON ((8.67312 49.42040, 8.67312 49.42027, ...</td>\n",
       "      <td>535</td>\n",
       "      <td>yes</td>\n",
       "      <td>NaN</td>\n",
       "      <td>Heidelberg</td>\n",
       "      <td>NaN</td>\n",
       "      <td>NaN</td>\n",
       "      <td>Im Neuenheimer Feld</td>\n",
       "      <td>university</td>\n",
       "      <td>Max-Planck-Institut für ausländisches öffentli...</td>\n",
       "      <td>...</td>\n",
       "      <td>NaN</td>\n",
       "      <td>NaN</td>\n",
       "      <td>NaN</td>\n",
       "      <td>NaN</td>\n",
       "      <td>NaN</td>\n",
       "      <td>NaN</td>\n",
       "      <td>NaN</td>\n",
       "      <td>NaN</td>\n",
       "      <td>NaN</td>\n",
       "      <td>NaN</td>\n",
       "    </tr>\n",
       "    <tr>\n",
       "      <th>2012-02-24 14:17:07</th>\n",
       "      <th>2012-07-17 05:25:02</th>\n",
       "      <td>POLYGON ((8.67312 49.42040, 8.67312 49.42027, ...</td>\n",
       "      <td>535</td>\n",
       "      <td>yes</td>\n",
       "      <td>NaN</td>\n",
       "      <td>Heidelberg</td>\n",
       "      <td>NaN</td>\n",
       "      <td>NaN</td>\n",
       "      <td>Im Neuenheimer Feld</td>\n",
       "      <td>NaN</td>\n",
       "      <td>Max-Planck-Institut für ausländisches öffentli...</td>\n",
       "      <td>...</td>\n",
       "      <td>NaN</td>\n",
       "      <td>NaN</td>\n",
       "      <td>NaN</td>\n",
       "      <td>NaN</td>\n",
       "      <td>NaN</td>\n",
       "      <td>NaN</td>\n",
       "      <td>NaN</td>\n",
       "      <td>NaN</td>\n",
       "      <td>NaN</td>\n",
       "      <td>NaN</td>\n",
       "    </tr>\n",
       "  </tbody>\n",
       "</table>\n",
       "<p>5 rows × 86 columns</p>\n",
       "</div>"
      ],
      "text/plain": [
       "                                                                                                geometry  \\\n",
       "@osmId        @validFrom          @validTo                                                                 \n",
       "way/399317554 2016-02-22 21:12:04 2016-02-22 21:50:18  POLYGON ((8.67066 49.41423, 8.67066 49.42040, ...   \n",
       "way/450702564 2016-11-02 06:13:58 2016-11-02 09:06:17  POLYGON ((8.67066 49.41423, 8.67066 49.42040, ...   \n",
       "way/25205983  2010-01-01 00:00:00 2011-12-14 21:04:31  POLYGON ((8.67312 49.42040, 8.67312 49.42027, ...   \n",
       "              2011-12-14 21:04:31 2012-02-24 14:17:07  POLYGON ((8.67312 49.42040, 8.67312 49.42027, ...   \n",
       "              2012-02-24 14:17:07 2012-07-17 05:25:02  POLYGON ((8.67312 49.42040, 8.67312 49.42027, ...   \n",
       "\n",
       "                                                      addr:housenumber  \\\n",
       "@osmId        @validFrom          @validTo                               \n",
       "way/399317554 2016-02-22 21:12:04 2016-02-22 21:50:18   cll 24 # 23-56   \n",
       "way/450702564 2016-11-02 06:13:58 2016-11-02 09:06:17              NaN   \n",
       "way/25205983  2010-01-01 00:00:00 2011-12-14 21:04:31              535   \n",
       "              2011-12-14 21:04:31 2012-02-24 14:17:07              535   \n",
       "              2012-02-24 14:17:07 2012-07-17 05:25:02              535   \n",
       "\n",
       "                                                          building  \\\n",
       "@osmId        @validFrom          @validTo                           \n",
       "way/399317554 2016-02-22 21:12:04 2016-02-22 21:50:18  residential   \n",
       "way/450702564 2016-11-02 06:13:58 2016-11-02 09:06:17          yes   \n",
       "way/25205983  2010-01-01 00:00:00 2011-12-14 21:04:31          yes   \n",
       "              2011-12-14 21:04:31 2012-02-24 14:17:07          yes   \n",
       "              2012-02-24 14:17:07 2012-07-17 05:25:02          yes   \n",
       "\n",
       "                                                      building:material  \\\n",
       "@osmId        @validFrom          @validTo                                \n",
       "way/399317554 2016-02-22 21:12:04 2016-02-22 21:50:18             brick   \n",
       "way/450702564 2016-11-02 06:13:58 2016-11-02 09:06:17               NaN   \n",
       "way/25205983  2010-01-01 00:00:00 2011-12-14 21:04:31               NaN   \n",
       "              2011-12-14 21:04:31 2012-02-24 14:17:07               NaN   \n",
       "              2012-02-24 14:17:07 2012-07-17 05:25:02               NaN   \n",
       "\n",
       "                                                            addr:city  \\\n",
       "@osmId        @validFrom          @validTo                              \n",
       "way/399317554 2016-02-22 21:12:04 2016-02-22 21:50:18             NaN   \n",
       "way/450702564 2016-11-02 06:13:58 2016-11-02 09:06:17  Cagayan De Oro   \n",
       "way/25205983  2010-01-01 00:00:00 2011-12-14 21:04:31             NaN   \n",
       "              2011-12-14 21:04:31 2012-02-24 14:17:07      Heidelberg   \n",
       "              2012-02-24 14:17:07 2012-07-17 05:25:02      Heidelberg   \n",
       "\n",
       "                                                      addr:postcode  \\\n",
       "@osmId        @validFrom          @validTo                            \n",
       "way/399317554 2016-02-22 21:12:04 2016-02-22 21:50:18           NaN   \n",
       "way/450702564 2016-11-02 06:13:58 2016-11-02 09:06:17          9000   \n",
       "way/25205983  2010-01-01 00:00:00 2011-12-14 21:04:31           NaN   \n",
       "              2011-12-14 21:04:31 2012-02-24 14:17:07           NaN   \n",
       "              2012-02-24 14:17:07 2012-07-17 05:25:02           NaN   \n",
       "\n",
       "                                                          addr:province  \\\n",
       "@osmId        @validFrom          @validTo                                \n",
       "way/399317554 2016-02-22 21:12:04 2016-02-22 21:50:18               NaN   \n",
       "way/450702564 2016-11-02 06:13:58 2016-11-02 09:06:17  Misamis Oriental   \n",
       "way/25205983  2010-01-01 00:00:00 2011-12-14 21:04:31               NaN   \n",
       "              2011-12-14 21:04:31 2012-02-24 14:17:07               NaN   \n",
       "              2012-02-24 14:17:07 2012-07-17 05:25:02               NaN   \n",
       "\n",
       "                                                               addr:street  \\\n",
       "@osmId        @validFrom          @validTo                                   \n",
       "way/399317554 2016-02-22 21:12:04 2016-02-22 21:50:18                  NaN   \n",
       "way/450702564 2016-11-02 06:13:58 2016-11-02 09:06:17                  NaN   \n",
       "way/25205983  2010-01-01 00:00:00 2011-12-14 21:04:31  Im Neuenheimer Feld   \n",
       "              2011-12-14 21:04:31 2012-02-24 14:17:07  Im Neuenheimer Feld   \n",
       "              2012-02-24 14:17:07 2012-07-17 05:25:02  Im Neuenheimer Feld   \n",
       "\n",
       "                                                          amenity  \\\n",
       "@osmId        @validFrom          @validTo                          \n",
       "way/399317554 2016-02-22 21:12:04 2016-02-22 21:50:18         NaN   \n",
       "way/450702564 2016-11-02 06:13:58 2016-11-02 09:06:17         NaN   \n",
       "way/25205983  2010-01-01 00:00:00 2011-12-14 21:04:31  university   \n",
       "              2011-12-14 21:04:31 2012-02-24 14:17:07  university   \n",
       "              2012-02-24 14:17:07 2012-07-17 05:25:02         NaN   \n",
       "\n",
       "                                                                                                    name  \\\n",
       "@osmId        @validFrom          @validTo                                                                 \n",
       "way/399317554 2016-02-22 21:12:04 2016-02-22 21:50:18                                                NaN   \n",
       "way/450702564 2016-11-02 06:13:58 2016-11-02 09:06:17                                                NaN   \n",
       "way/25205983  2010-01-01 00:00:00 2011-12-14 21:04:31  Max-Planck-Institut für ausländisches öffentli...   \n",
       "              2011-12-14 21:04:31 2012-02-24 14:17:07  Max-Planck-Institut für ausländisches öffentli...   \n",
       "              2012-02-24 14:17:07 2012-07-17 05:25:02  Max-Planck-Institut für ausländisches öffentli...   \n",
       "\n",
       "                                                       ... fuel:octane_95  \\\n",
       "@osmId        @validFrom          @validTo             ...                  \n",
       "way/399317554 2016-02-22 21:12:04 2016-02-22 21:50:18  ...            NaN   \n",
       "way/450702564 2016-11-02 06:13:58 2016-11-02 09:06:17  ...            NaN   \n",
       "way/25205983  2010-01-01 00:00:00 2011-12-14 21:04:31  ...            NaN   \n",
       "              2011-12-14 21:04:31 2012-02-24 14:17:07  ...            NaN   \n",
       "              2012-02-24 14:17:07 2012-07-17 05:25:02  ...            NaN   \n",
       "\n",
       "                                                       atm wheelchair:toilet  \\\n",
       "@osmId        @validFrom          @validTo                                     \n",
       "way/399317554 2016-02-22 21:12:04 2016-02-22 21:50:18  NaN               NaN   \n",
       "way/450702564 2016-11-02 06:13:58 2016-11-02 09:06:17  NaN               NaN   \n",
       "way/25205983  2010-01-01 00:00:00 2011-12-14 21:04:31  NaN               NaN   \n",
       "              2011-12-14 21:04:31 2012-02-24 14:17:07  NaN               NaN   \n",
       "              2012-02-24 14:17:07 2012-07-17 05:25:02  NaN               NaN   \n",
       "\n",
       "                                                      books shop university  \\\n",
       "@osmId        @validFrom          @validTo                                    \n",
       "way/399317554 2016-02-22 21:12:04 2016-02-22 21:50:18   NaN  NaN        NaN   \n",
       "way/450702564 2016-11-02 06:13:58 2016-11-02 09:06:17   NaN  NaN        NaN   \n",
       "way/25205983  2010-01-01 00:00:00 2011-12-14 21:04:31   NaN  NaN        NaN   \n",
       "              2011-12-14 21:04:31 2012-02-24 14:17:07   NaN  NaN        NaN   \n",
       "              2012-02-24 14:17:07 2012-07-17 05:25:02   NaN  NaN        NaN   \n",
       "\n",
       "                                                      INF 230 layer  \\\n",
       "@osmId        @validFrom          @validTo                            \n",
       "way/399317554 2016-02-22 21:12:04 2016-02-22 21:50:18     NaN   NaN   \n",
       "way/450702564 2016-11-02 06:13:58 2016-11-02 09:06:17     NaN   NaN   \n",
       "way/25205983  2010-01-01 00:00:00 2011-12-14 21:04:31     NaN   NaN   \n",
       "              2011-12-14 21:04:31 2012-02-24 14:17:07     NaN   NaN   \n",
       "              2012-02-24 14:17:07 2012-07-17 05:25:02     NaN   NaN   \n",
       "\n",
       "                                                      construction stairwell  \n",
       "@osmId        @validFrom          @validTo                                    \n",
       "way/399317554 2016-02-22 21:12:04 2016-02-22 21:50:18          NaN       NaN  \n",
       "way/450702564 2016-11-02 06:13:58 2016-11-02 09:06:17          NaN       NaN  \n",
       "way/25205983  2010-01-01 00:00:00 2011-12-14 21:04:31          NaN       NaN  \n",
       "              2011-12-14 21:04:31 2012-02-24 14:17:07          NaN       NaN  \n",
       "              2012-02-24 14:17:07 2012-07-17 05:25:02          NaN       NaN  \n",
       "\n",
       "[5 rows x 86 columns]"
      ]
     },
     "execution_count": 125,
     "metadata": {},
     "output_type": "execute_result"
    }
   ],
   "source": [
    "buildings_history = response.as_geodataframe()\n",
    "buildings_history.head()"
   ]
  },
  {
   "cell_type": "markdown",
   "metadata": {},
   "source": [
    "Since the timestamp is given in the index, you can slice the data as before. "
   ]
  },
  {
   "cell_type": "markdown",
   "metadata": {},
   "source": [
    "**Example:** Select all versions of the OSM object with ID 'way/25205983'."
   ]
  },
  {
   "cell_type": "code",
   "execution_count": 131,
   "metadata": {},
   "outputs": [
    {
     "data": {
      "text/html": [
       "<div>\n",
       "<style scoped>\n",
       "    .dataframe tbody tr th:only-of-type {\n",
       "        vertical-align: middle;\n",
       "    }\n",
       "\n",
       "    .dataframe tbody tr th {\n",
       "        vertical-align: top;\n",
       "    }\n",
       "\n",
       "    .dataframe thead th {\n",
       "        text-align: right;\n",
       "    }\n",
       "</style>\n",
       "<table border=\"1\" class=\"dataframe\">\n",
       "  <thead>\n",
       "    <tr style=\"text-align: right;\">\n",
       "      <th></th>\n",
       "      <th></th>\n",
       "      <th>geometry</th>\n",
       "      <th>addr:housenumber</th>\n",
       "      <th>building</th>\n",
       "      <th>building:material</th>\n",
       "      <th>addr:city</th>\n",
       "      <th>addr:postcode</th>\n",
       "      <th>addr:province</th>\n",
       "      <th>addr:street</th>\n",
       "      <th>amenity</th>\n",
       "      <th>name</th>\n",
       "      <th>...</th>\n",
       "      <th>fuel:octane_95</th>\n",
       "      <th>atm</th>\n",
       "      <th>wheelchair:toilet</th>\n",
       "      <th>books</th>\n",
       "      <th>shop</th>\n",
       "      <th>university</th>\n",
       "      <th>INF 230</th>\n",
       "      <th>layer</th>\n",
       "      <th>construction</th>\n",
       "      <th>stairwell</th>\n",
       "    </tr>\n",
       "    <tr>\n",
       "      <th>@validFrom</th>\n",
       "      <th>@validTo</th>\n",
       "      <th></th>\n",
       "      <th></th>\n",
       "      <th></th>\n",
       "      <th></th>\n",
       "      <th></th>\n",
       "      <th></th>\n",
       "      <th></th>\n",
       "      <th></th>\n",
       "      <th></th>\n",
       "      <th></th>\n",
       "      <th></th>\n",
       "      <th></th>\n",
       "      <th></th>\n",
       "      <th></th>\n",
       "      <th></th>\n",
       "      <th></th>\n",
       "      <th></th>\n",
       "      <th></th>\n",
       "      <th></th>\n",
       "      <th></th>\n",
       "      <th></th>\n",
       "    </tr>\n",
       "  </thead>\n",
       "  <tbody>\n",
       "    <tr>\n",
       "      <th>2010-01-01 00:00:00</th>\n",
       "      <th>2011-12-14 21:04:31</th>\n",
       "      <td>POLYGON ((8.67312 49.42040, 8.67312 49.42027, ...</td>\n",
       "      <td>535</td>\n",
       "      <td>yes</td>\n",
       "      <td>NaN</td>\n",
       "      <td>NaN</td>\n",
       "      <td>NaN</td>\n",
       "      <td>NaN</td>\n",
       "      <td>Im Neuenheimer Feld</td>\n",
       "      <td>university</td>\n",
       "      <td>Max-Planck-Institut für ausländisches öffentli...</td>\n",
       "      <td>...</td>\n",
       "      <td>NaN</td>\n",
       "      <td>NaN</td>\n",
       "      <td>NaN</td>\n",
       "      <td>NaN</td>\n",
       "      <td>NaN</td>\n",
       "      <td>NaN</td>\n",
       "      <td>NaN</td>\n",
       "      <td>NaN</td>\n",
       "      <td>NaN</td>\n",
       "      <td>NaN</td>\n",
       "    </tr>\n",
       "    <tr>\n",
       "      <th>2011-12-14 21:04:31</th>\n",
       "      <th>2012-02-24 14:17:07</th>\n",
       "      <td>POLYGON ((8.67312 49.42040, 8.67312 49.42027, ...</td>\n",
       "      <td>535</td>\n",
       "      <td>yes</td>\n",
       "      <td>NaN</td>\n",
       "      <td>Heidelberg</td>\n",
       "      <td>NaN</td>\n",
       "      <td>NaN</td>\n",
       "      <td>Im Neuenheimer Feld</td>\n",
       "      <td>university</td>\n",
       "      <td>Max-Planck-Institut für ausländisches öffentli...</td>\n",
       "      <td>...</td>\n",
       "      <td>NaN</td>\n",
       "      <td>NaN</td>\n",
       "      <td>NaN</td>\n",
       "      <td>NaN</td>\n",
       "      <td>NaN</td>\n",
       "      <td>NaN</td>\n",
       "      <td>NaN</td>\n",
       "      <td>NaN</td>\n",
       "      <td>NaN</td>\n",
       "      <td>NaN</td>\n",
       "    </tr>\n",
       "    <tr>\n",
       "      <th>2012-02-24 14:17:07</th>\n",
       "      <th>2012-07-17 05:25:02</th>\n",
       "      <td>POLYGON ((8.67312 49.42040, 8.67312 49.42027, ...</td>\n",
       "      <td>535</td>\n",
       "      <td>yes</td>\n",
       "      <td>NaN</td>\n",
       "      <td>Heidelberg</td>\n",
       "      <td>NaN</td>\n",
       "      <td>NaN</td>\n",
       "      <td>Im Neuenheimer Feld</td>\n",
       "      <td>NaN</td>\n",
       "      <td>Max-Planck-Institut für ausländisches öffentli...</td>\n",
       "      <td>...</td>\n",
       "      <td>NaN</td>\n",
       "      <td>NaN</td>\n",
       "      <td>NaN</td>\n",
       "      <td>NaN</td>\n",
       "      <td>NaN</td>\n",
       "      <td>NaN</td>\n",
       "      <td>NaN</td>\n",
       "      <td>NaN</td>\n",
       "      <td>NaN</td>\n",
       "      <td>NaN</td>\n",
       "    </tr>\n",
       "    <tr>\n",
       "      <th>2012-07-17 05:25:02</th>\n",
       "      <th>2014-05-10 22:08:51</th>\n",
       "      <td>POLYGON ((8.67312 49.42040, 8.67312 49.42027, ...</td>\n",
       "      <td>535</td>\n",
       "      <td>university</td>\n",
       "      <td>NaN</td>\n",
       "      <td>Heidelberg</td>\n",
       "      <td>NaN</td>\n",
       "      <td>NaN</td>\n",
       "      <td>Im Neuenheimer Feld</td>\n",
       "      <td>NaN</td>\n",
       "      <td>Max-Planck-Institut</td>\n",
       "      <td>...</td>\n",
       "      <td>NaN</td>\n",
       "      <td>NaN</td>\n",
       "      <td>NaN</td>\n",
       "      <td>NaN</td>\n",
       "      <td>NaN</td>\n",
       "      <td>NaN</td>\n",
       "      <td>NaN</td>\n",
       "      <td>NaN</td>\n",
       "      <td>NaN</td>\n",
       "      <td>NaN</td>\n",
       "    </tr>\n",
       "    <tr>\n",
       "      <th>2014-05-10 22:08:51</th>\n",
       "      <th>2014-09-07 20:55:18</th>\n",
       "      <td>POLYGON ((8.67312 49.42040, 8.67312 49.42027, ...</td>\n",
       "      <td>535</td>\n",
       "      <td>university</td>\n",
       "      <td>NaN</td>\n",
       "      <td>Heidelberg</td>\n",
       "      <td>NaN</td>\n",
       "      <td>NaN</td>\n",
       "      <td>Im Neuenheimer Feld</td>\n",
       "      <td>NaN</td>\n",
       "      <td>Max-Planck-Institut</td>\n",
       "      <td>...</td>\n",
       "      <td>NaN</td>\n",
       "      <td>NaN</td>\n",
       "      <td>NaN</td>\n",
       "      <td>NaN</td>\n",
       "      <td>NaN</td>\n",
       "      <td>NaN</td>\n",
       "      <td>NaN</td>\n",
       "      <td>NaN</td>\n",
       "      <td>NaN</td>\n",
       "      <td>NaN</td>\n",
       "    </tr>\n",
       "    <tr>\n",
       "      <th>2014-09-07 20:55:18</th>\n",
       "      <th>2015-05-03 10:16:40</th>\n",
       "      <td>POLYGON ((8.67312 49.42040, 8.67312 49.42027, ...</td>\n",
       "      <td>535</td>\n",
       "      <td>university</td>\n",
       "      <td>NaN</td>\n",
       "      <td>Heidelberg</td>\n",
       "      <td>69120</td>\n",
       "      <td>NaN</td>\n",
       "      <td>Im Neuenheimer Feld</td>\n",
       "      <td>NaN</td>\n",
       "      <td>Max-Planck-Institut</td>\n",
       "      <td>...</td>\n",
       "      <td>NaN</td>\n",
       "      <td>NaN</td>\n",
       "      <td>NaN</td>\n",
       "      <td>NaN</td>\n",
       "      <td>NaN</td>\n",
       "      <td>NaN</td>\n",
       "      <td>NaN</td>\n",
       "      <td>NaN</td>\n",
       "      <td>NaN</td>\n",
       "      <td>NaN</td>\n",
       "    </tr>\n",
       "    <tr>\n",
       "      <th>2015-05-03 10:16:40</th>\n",
       "      <th>2016-07-28 15:44:48</th>\n",
       "      <td>POLYGON ((8.67320 49.42040, 8.67320 49.42025, ...</td>\n",
       "      <td>535</td>\n",
       "      <td>university</td>\n",
       "      <td>NaN</td>\n",
       "      <td>Heidelberg</td>\n",
       "      <td>69120</td>\n",
       "      <td>NaN</td>\n",
       "      <td>Im Neuenheimer Feld</td>\n",
       "      <td>NaN</td>\n",
       "      <td>Max-Planck-Institut für ausländisches öffentli...</td>\n",
       "      <td>...</td>\n",
       "      <td>NaN</td>\n",
       "      <td>NaN</td>\n",
       "      <td>NaN</td>\n",
       "      <td>NaN</td>\n",
       "      <td>NaN</td>\n",
       "      <td>NaN</td>\n",
       "      <td>NaN</td>\n",
       "      <td>NaN</td>\n",
       "      <td>NaN</td>\n",
       "      <td>NaN</td>\n",
       "    </tr>\n",
       "    <tr>\n",
       "      <th>2016-07-28 15:44:48</th>\n",
       "      <th>2017-03-30 23:27:51</th>\n",
       "      <td>POLYGON ((8.67320 49.42040, 8.67320 49.42025, ...</td>\n",
       "      <td>535</td>\n",
       "      <td>university</td>\n",
       "      <td>NaN</td>\n",
       "      <td>Heidelberg</td>\n",
       "      <td>69120</td>\n",
       "      <td>NaN</td>\n",
       "      <td>Im Neuenheimer Feld</td>\n",
       "      <td>NaN</td>\n",
       "      <td>Max-Planck-Institut für ausländisches öffentli...</td>\n",
       "      <td>...</td>\n",
       "      <td>NaN</td>\n",
       "      <td>NaN</td>\n",
       "      <td>NaN</td>\n",
       "      <td>NaN</td>\n",
       "      <td>NaN</td>\n",
       "      <td>NaN</td>\n",
       "      <td>NaN</td>\n",
       "      <td>NaN</td>\n",
       "      <td>NaN</td>\n",
       "      <td>NaN</td>\n",
       "    </tr>\n",
       "    <tr>\n",
       "      <th>2017-03-30 23:27:51</th>\n",
       "      <th>2018-01-01 00:00:00</th>\n",
       "      <td>POLYGON ((8.67320 49.42040, 8.67320 49.42025, ...</td>\n",
       "      <td>535</td>\n",
       "      <td>university</td>\n",
       "      <td>NaN</td>\n",
       "      <td>Heidelberg</td>\n",
       "      <td>69120</td>\n",
       "      <td>NaN</td>\n",
       "      <td>Im Neuenheimer Feld</td>\n",
       "      <td>NaN</td>\n",
       "      <td>Max-Planck-Institut für ausländisches öffentli...</td>\n",
       "      <td>...</td>\n",
       "      <td>NaN</td>\n",
       "      <td>NaN</td>\n",
       "      <td>NaN</td>\n",
       "      <td>NaN</td>\n",
       "      <td>NaN</td>\n",
       "      <td>NaN</td>\n",
       "      <td>NaN</td>\n",
       "      <td>NaN</td>\n",
       "      <td>NaN</td>\n",
       "      <td>NaN</td>\n",
       "    </tr>\n",
       "  </tbody>\n",
       "</table>\n",
       "<p>9 rows × 86 columns</p>\n",
       "</div>"
      ],
      "text/plain": [
       "                                                                                  geometry  \\\n",
       "@validFrom          @validTo                                                                 \n",
       "2010-01-01 00:00:00 2011-12-14 21:04:31  POLYGON ((8.67312 49.42040, 8.67312 49.42027, ...   \n",
       "2011-12-14 21:04:31 2012-02-24 14:17:07  POLYGON ((8.67312 49.42040, 8.67312 49.42027, ...   \n",
       "2012-02-24 14:17:07 2012-07-17 05:25:02  POLYGON ((8.67312 49.42040, 8.67312 49.42027, ...   \n",
       "2012-07-17 05:25:02 2014-05-10 22:08:51  POLYGON ((8.67312 49.42040, 8.67312 49.42027, ...   \n",
       "2014-05-10 22:08:51 2014-09-07 20:55:18  POLYGON ((8.67312 49.42040, 8.67312 49.42027, ...   \n",
       "2014-09-07 20:55:18 2015-05-03 10:16:40  POLYGON ((8.67312 49.42040, 8.67312 49.42027, ...   \n",
       "2015-05-03 10:16:40 2016-07-28 15:44:48  POLYGON ((8.67320 49.42040, 8.67320 49.42025, ...   \n",
       "2016-07-28 15:44:48 2017-03-30 23:27:51  POLYGON ((8.67320 49.42040, 8.67320 49.42025, ...   \n",
       "2017-03-30 23:27:51 2018-01-01 00:00:00  POLYGON ((8.67320 49.42040, 8.67320 49.42025, ...   \n",
       "\n",
       "                                        addr:housenumber    building  \\\n",
       "@validFrom          @validTo                                           \n",
       "2010-01-01 00:00:00 2011-12-14 21:04:31              535         yes   \n",
       "2011-12-14 21:04:31 2012-02-24 14:17:07              535         yes   \n",
       "2012-02-24 14:17:07 2012-07-17 05:25:02              535         yes   \n",
       "2012-07-17 05:25:02 2014-05-10 22:08:51              535  university   \n",
       "2014-05-10 22:08:51 2014-09-07 20:55:18              535  university   \n",
       "2014-09-07 20:55:18 2015-05-03 10:16:40              535  university   \n",
       "2015-05-03 10:16:40 2016-07-28 15:44:48              535  university   \n",
       "2016-07-28 15:44:48 2017-03-30 23:27:51              535  university   \n",
       "2017-03-30 23:27:51 2018-01-01 00:00:00              535  university   \n",
       "\n",
       "                                        building:material   addr:city  \\\n",
       "@validFrom          @validTo                                            \n",
       "2010-01-01 00:00:00 2011-12-14 21:04:31               NaN         NaN   \n",
       "2011-12-14 21:04:31 2012-02-24 14:17:07               NaN  Heidelberg   \n",
       "2012-02-24 14:17:07 2012-07-17 05:25:02               NaN  Heidelberg   \n",
       "2012-07-17 05:25:02 2014-05-10 22:08:51               NaN  Heidelberg   \n",
       "2014-05-10 22:08:51 2014-09-07 20:55:18               NaN  Heidelberg   \n",
       "2014-09-07 20:55:18 2015-05-03 10:16:40               NaN  Heidelberg   \n",
       "2015-05-03 10:16:40 2016-07-28 15:44:48               NaN  Heidelberg   \n",
       "2016-07-28 15:44:48 2017-03-30 23:27:51               NaN  Heidelberg   \n",
       "2017-03-30 23:27:51 2018-01-01 00:00:00               NaN  Heidelberg   \n",
       "\n",
       "                                        addr:postcode addr:province  \\\n",
       "@validFrom          @validTo                                          \n",
       "2010-01-01 00:00:00 2011-12-14 21:04:31           NaN           NaN   \n",
       "2011-12-14 21:04:31 2012-02-24 14:17:07           NaN           NaN   \n",
       "2012-02-24 14:17:07 2012-07-17 05:25:02           NaN           NaN   \n",
       "2012-07-17 05:25:02 2014-05-10 22:08:51           NaN           NaN   \n",
       "2014-05-10 22:08:51 2014-09-07 20:55:18           NaN           NaN   \n",
       "2014-09-07 20:55:18 2015-05-03 10:16:40         69120           NaN   \n",
       "2015-05-03 10:16:40 2016-07-28 15:44:48         69120           NaN   \n",
       "2016-07-28 15:44:48 2017-03-30 23:27:51         69120           NaN   \n",
       "2017-03-30 23:27:51 2018-01-01 00:00:00         69120           NaN   \n",
       "\n",
       "                                                 addr:street     amenity  \\\n",
       "@validFrom          @validTo                                               \n",
       "2010-01-01 00:00:00 2011-12-14 21:04:31  Im Neuenheimer Feld  university   \n",
       "2011-12-14 21:04:31 2012-02-24 14:17:07  Im Neuenheimer Feld  university   \n",
       "2012-02-24 14:17:07 2012-07-17 05:25:02  Im Neuenheimer Feld         NaN   \n",
       "2012-07-17 05:25:02 2014-05-10 22:08:51  Im Neuenheimer Feld         NaN   \n",
       "2014-05-10 22:08:51 2014-09-07 20:55:18  Im Neuenheimer Feld         NaN   \n",
       "2014-09-07 20:55:18 2015-05-03 10:16:40  Im Neuenheimer Feld         NaN   \n",
       "2015-05-03 10:16:40 2016-07-28 15:44:48  Im Neuenheimer Feld         NaN   \n",
       "2016-07-28 15:44:48 2017-03-30 23:27:51  Im Neuenheimer Feld         NaN   \n",
       "2017-03-30 23:27:51 2018-01-01 00:00:00  Im Neuenheimer Feld         NaN   \n",
       "\n",
       "                                                                                      name  \\\n",
       "@validFrom          @validTo                                                                 \n",
       "2010-01-01 00:00:00 2011-12-14 21:04:31  Max-Planck-Institut für ausländisches öffentli...   \n",
       "2011-12-14 21:04:31 2012-02-24 14:17:07  Max-Planck-Institut für ausländisches öffentli...   \n",
       "2012-02-24 14:17:07 2012-07-17 05:25:02  Max-Planck-Institut für ausländisches öffentli...   \n",
       "2012-07-17 05:25:02 2014-05-10 22:08:51                                Max-Planck-Institut   \n",
       "2014-05-10 22:08:51 2014-09-07 20:55:18                                Max-Planck-Institut   \n",
       "2014-09-07 20:55:18 2015-05-03 10:16:40                                Max-Planck-Institut   \n",
       "2015-05-03 10:16:40 2016-07-28 15:44:48  Max-Planck-Institut für ausländisches öffentli...   \n",
       "2016-07-28 15:44:48 2017-03-30 23:27:51  Max-Planck-Institut für ausländisches öffentli...   \n",
       "2017-03-30 23:27:51 2018-01-01 00:00:00  Max-Planck-Institut für ausländisches öffentli...   \n",
       "\n",
       "                                         ... fuel:octane_95  atm  \\\n",
       "@validFrom          @validTo             ...                       \n",
       "2010-01-01 00:00:00 2011-12-14 21:04:31  ...            NaN  NaN   \n",
       "2011-12-14 21:04:31 2012-02-24 14:17:07  ...            NaN  NaN   \n",
       "2012-02-24 14:17:07 2012-07-17 05:25:02  ...            NaN  NaN   \n",
       "2012-07-17 05:25:02 2014-05-10 22:08:51  ...            NaN  NaN   \n",
       "2014-05-10 22:08:51 2014-09-07 20:55:18  ...            NaN  NaN   \n",
       "2014-09-07 20:55:18 2015-05-03 10:16:40  ...            NaN  NaN   \n",
       "2015-05-03 10:16:40 2016-07-28 15:44:48  ...            NaN  NaN   \n",
       "2016-07-28 15:44:48 2017-03-30 23:27:51  ...            NaN  NaN   \n",
       "2017-03-30 23:27:51 2018-01-01 00:00:00  ...            NaN  NaN   \n",
       "\n",
       "                                        wheelchair:toilet books shop  \\\n",
       "@validFrom          @validTo                                           \n",
       "2010-01-01 00:00:00 2011-12-14 21:04:31               NaN   NaN  NaN   \n",
       "2011-12-14 21:04:31 2012-02-24 14:17:07               NaN   NaN  NaN   \n",
       "2012-02-24 14:17:07 2012-07-17 05:25:02               NaN   NaN  NaN   \n",
       "2012-07-17 05:25:02 2014-05-10 22:08:51               NaN   NaN  NaN   \n",
       "2014-05-10 22:08:51 2014-09-07 20:55:18               NaN   NaN  NaN   \n",
       "2014-09-07 20:55:18 2015-05-03 10:16:40               NaN   NaN  NaN   \n",
       "2015-05-03 10:16:40 2016-07-28 15:44:48               NaN   NaN  NaN   \n",
       "2016-07-28 15:44:48 2017-03-30 23:27:51               NaN   NaN  NaN   \n",
       "2017-03-30 23:27:51 2018-01-01 00:00:00               NaN   NaN  NaN   \n",
       "\n",
       "                                        university INF 230 layer construction  \\\n",
       "@validFrom          @validTo                                                    \n",
       "2010-01-01 00:00:00 2011-12-14 21:04:31        NaN     NaN   NaN          NaN   \n",
       "2011-12-14 21:04:31 2012-02-24 14:17:07        NaN     NaN   NaN          NaN   \n",
       "2012-02-24 14:17:07 2012-07-17 05:25:02        NaN     NaN   NaN          NaN   \n",
       "2012-07-17 05:25:02 2014-05-10 22:08:51        NaN     NaN   NaN          NaN   \n",
       "2014-05-10 22:08:51 2014-09-07 20:55:18        NaN     NaN   NaN          NaN   \n",
       "2014-09-07 20:55:18 2015-05-03 10:16:40        NaN     NaN   NaN          NaN   \n",
       "2015-05-03 10:16:40 2016-07-28 15:44:48        NaN     NaN   NaN          NaN   \n",
       "2016-07-28 15:44:48 2017-03-30 23:27:51        NaN     NaN   NaN          NaN   \n",
       "2017-03-30 23:27:51 2018-01-01 00:00:00        NaN     NaN   NaN          NaN   \n",
       "\n",
       "                                        stairwell  \n",
       "@validFrom          @validTo                       \n",
       "2010-01-01 00:00:00 2011-12-14 21:04:31       NaN  \n",
       "2011-12-14 21:04:31 2012-02-24 14:17:07       NaN  \n",
       "2012-02-24 14:17:07 2012-07-17 05:25:02       NaN  \n",
       "2012-07-17 05:25:02 2014-05-10 22:08:51       NaN  \n",
       "2014-05-10 22:08:51 2014-09-07 20:55:18       NaN  \n",
       "2014-09-07 20:55:18 2015-05-03 10:16:40       NaN  \n",
       "2015-05-03 10:16:40 2016-07-28 15:44:48       NaN  \n",
       "2016-07-28 15:44:48 2017-03-30 23:27:51       NaN  \n",
       "2017-03-30 23:27:51 2018-01-01 00:00:00       NaN  \n",
       "\n",
       "[9 rows x 86 columns]"
      ]
     },
     "execution_count": 131,
     "metadata": {},
     "output_type": "execute_result"
    }
   ],
   "source": [
    "buildings_history.sort_index().loc[\"way/25205983\",:]"
   ]
  },
  {
   "cell_type": "markdown",
   "metadata": {},
   "source": [
    "**Example:** Selecting all versions which have been created in 2015:"
   ]
  },
  {
   "cell_type": "code",
   "execution_count": 132,
   "metadata": {},
   "outputs": [],
   "source": [
    "selected = buildings_history.sort_index().loc[(slice(None), \n",
    "                                    slice(\"2015-01-01\",\"2015-12-31\"), \n",
    "                                    slice(None)),:]"
   ]
  },
  {
   "cell_type": "code",
   "execution_count": 133,
   "metadata": {},
   "outputs": [
    {
     "data": {
      "text/plain": [
       "<matplotlib.axes._subplots.AxesSubplot at 0x7ffce93edfa0>"
      ]
     },
     "execution_count": 133,
     "metadata": {},
     "output_type": "execute_result"
    },
    {
     "data": {
      "image/png": "[encoded data removed]",
      "text/plain": [
       "<Figure size 432x288 with 1 Axes>"
      ]
     },
     "metadata": {
      "needs_background": "light"
     },
     "output_type": "display_data"
    }
   ],
   "source": [
    "selected.plot()"
   ]
  }
 ],
 "metadata": {
  "kernelspec": {
   "display_name": "Python (ohsome-dev)",
   "language": "python",
   "name": "ohsomedev"
  },
  "language_info": {
   "codemirror_mode": {
    "name": "ipython",
    "version": 3
   },
   "file_extension": ".py",
   "mimetype": "text/x-python",
   "name": "python",
   "nbconvert_exporter": "python",
   "pygments_lexer": "ipython3",
   "version": "3.8.6"
  }
 },
 "nbformat": 4,
 "nbformat_minor": 2
}
