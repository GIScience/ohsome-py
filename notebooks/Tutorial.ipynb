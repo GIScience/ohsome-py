{
 "cells": [
  {
   "cell_type": "markdown",
   "metadata": {
    "pycharm": {}
   },
   "source": [
    "# Tutorial "
   ]
  },
  {
   "cell_type": "markdown",
   "metadata": {
    "pycharm": {}
   },
   "source": [
    "This notebook gives a short introduction on how to use the `ohsome` for sending requests to the ohsome API. We will perform a [Data Aggregation](https://api.ohsome.org/v0.9/swagger-ui.html?urls.primaryName=Data%20Aggregation) and [Data Extraction](https://api.ohsome.org/v0.9/swagger-ui.html?urls.primaryName=Data%20Extraction) queries.\n",
    "Please refer to the ohsome API documentation for a full description of all endpoints and query parameters:\n",
    "\n",
    "* [ohsome API documentation](https://docs.ohsome.org/ohsome-api/stable/index.html), e.g. [endpoints](https://docs.ohsome.org/ohsome-api/stable/endpoints.html), [filters](https://docs.ohsome.org/ohsome-api/stable/filter.html), [boundaries](https://docs.ohsome.org/ohsome-api/stable/boundaries.html), [time](https://docs.ohsome.org/ohsome-api/stable/time.html) and [grouping](https://docs.ohsome.org/ohsome-api/stable/group-by.html)\n",
    "* [swagger ohsome API](https://api.ohsome.org/v1/swagger-ui.html?urls.primaryName=dataExtraction)"
   ]
  },
  {
   "cell_type": "markdown",
   "metadata": {},
   "source": [
    "##### Import packages"
   ]
  },
  {
   "cell_type": "code",
   "execution_count": 1,
   "metadata": {
    "pycharm": {}
   },
   "outputs": [],
   "source": [
    "import matplotlib.pyplot as plt\n",
    "%matplotlib inline"
   ]
  },
  {
   "cell_type": "code",
   "execution_count": 2,
   "metadata": {},
   "outputs": [],
   "source": [
    "import sys\n",
    "sys.path.append('..')"
   ]
  },
  {
   "cell_type": "markdown",
   "metadata": {},
   "source": [
    "## 1. Metadata"
   ]
  },
  {
   "cell_type": "markdown",
   "metadata": {
    "pycharm": {}
   },
   "source": [
    "All requests to the ohsome API are sent using an `OhsomeClient` object. "
   ]
  },
  {
   "cell_type": "code",
   "execution_count": 3,
   "metadata": {},
   "outputs": [],
   "source": [
    "from ohsome import OhsomeClient"
   ]
  },
  {
   "cell_type": "code",
   "execution_count": 4,
   "metadata": {},
   "outputs": [],
   "source": [
    "client = OhsomeClient()"
   ]
  },
  {
   "cell_type": "markdown",
   "metadata": {},
   "source": [
    "After its initialization you can query metadata of the ohsome API such as start and end timestamp, api version."
   ]
  },
  {
   "cell_type": "code",
   "execution_count": 5,
   "metadata": {},
   "outputs": [],
   "source": [
    "import datetime as dt"
   ]
  },
  {
   "cell_type": "code",
   "execution_count": 6,
   "metadata": {},
   "outputs": [
    {
     "data": {
      "text/plain": [
       "datetime.datetime(2007, 10, 8, 0, 0)"
      ]
     },
     "execution_count": 6,
     "metadata": {},
     "output_type": "execute_result"
    }
   ],
   "source": [
    "client.start_timestamp"
   ]
  },
  {
   "cell_type": "code",
   "execution_count": 35,
   "metadata": {},
   "outputs": [
    {
     "data": {
      "text/plain": [
       "'2021-01-23T03:00:00'"
      ]
     },
     "execution_count": 35,
     "metadata": {},
     "output_type": "execute_result"
    }
   ],
   "source": [
    "client.end_timestamp.isoformat()"
   ]
  },
  {
   "cell_type": "code",
   "execution_count": 8,
   "metadata": {},
   "outputs": [
    {
     "data": {
      "text/plain": [
       "'1.3.2'"
      ]
     },
     "execution_count": 8,
     "metadata": {},
     "output_type": "execute_result"
    }
   ],
   "source": [
    "client.api_version"
   ]
  },
  {
   "cell_type": "markdown",
   "metadata": {
    "pycharm": {}
   },
   "source": [
    "## 2. Data Aggregation"
   ]
  },
  {
   "cell_type": "markdown",
   "metadata": {},
   "source": [
    "To send a request to one of the endpoints, append the single components of the endpoint URL as method calls to the client. Use code completion (TAB in jupyter) to find valid endpoint components. In the end, call the `post()` method with all necessary parameters to send off the query as a POST request."
   ]
  },
  {
   "cell_type": "markdown",
   "metadata": {},
   "source": [
    "### Number of highways"
   ]
  },
  {
   "cell_type": "markdown",
   "metadata": {},
   "source": [
    "__Example:__ Number of features tagged as _highway=*_ within a bounding box in Heidelberg for the years 2010 and 2011. The call is sent to the endpoint [elements/count](https://api.ohsome.org/v1/swagger-ui.html?urls.primaryName=dataExtraction#/Count/count_1)"
   ]
  },
  {
   "cell_type": "code",
   "execution_count": 9,
   "metadata": {
    "pycharm": {}
   },
   "outputs": [],
   "source": [
    "bboxes = [8.67066,49.41423,8.68177,49.4204]\n",
    "time = \"2010-01-01/2011-01-01/P1Y\"\n",
    "flter = \"highway=* and type:way\""
   ]
  },
  {
   "cell_type": "code",
   "execution_count": 10,
   "metadata": {
    "pycharm": {}
   },
   "outputs": [],
   "source": [
    "response = client.elements.count.post(bboxes=bboxes, time=time, flter=filter)"
   ]
  },
  {
   "cell_type": "markdown",
   "metadata": {},
   "source": [
    "Alternatively you can also specify the endpoint in the `OhsomeClient.post()` method:"
   ]
  },
  {
   "cell_type": "code",
   "execution_count": 11,
   "metadata": {},
   "outputs": [],
   "source": [
    "response = client.post(bboxes=bboxes, time=time, filter=flter, endpoint=\"elements/count\")"
   ]
  },
  {
   "cell_type": "markdown",
   "metadata": {},
   "source": [
    "Calling `as_dataframe()` converts the response to a `pandas.DataFrame` with the timestamp as index."
   ]
  },
  {
   "cell_type": "code",
   "execution_count": 12,
   "metadata": {
    "pycharm": {}
   },
   "outputs": [],
   "source": [
    "response_df = response.as_dataframe()"
   ]
  },
  {
   "cell_type": "markdown",
   "metadata": {
    "pycharm": {}
   },
   "source": [
    "The result contains the number of highways for each time step:"
   ]
  },
  {
   "cell_type": "code",
   "execution_count": 13,
   "metadata": {
    "pycharm": {},
    "scrolled": true
   },
   "outputs": [
    {
     "data": {
      "text/html": [
       "<div>\n",
       "<style scoped>\n",
       "    .dataframe tbody tr th:only-of-type {\n",
       "        vertical-align: middle;\n",
       "    }\n",
       "\n",
       "    .dataframe tbody tr th {\n",
       "        vertical-align: top;\n",
       "    }\n",
       "\n",
       "    .dataframe thead th {\n",
       "        text-align: right;\n",
       "    }\n",
       "</style>\n",
       "<table border=\"1\" class=\"dataframe\">\n",
       "  <thead>\n",
       "    <tr style=\"text-align: right;\">\n",
       "      <th></th>\n",
       "      <th>value</th>\n",
       "    </tr>\n",
       "    <tr>\n",
       "      <th>timestamp</th>\n",
       "      <th></th>\n",
       "    </tr>\n",
       "  </thead>\n",
       "  <tbody>\n",
       "    <tr>\n",
       "      <th>2010-01-01 00:00:00+00:00</th>\n",
       "      <td>269.0</td>\n",
       "    </tr>\n",
       "    <tr>\n",
       "      <th>2011-01-01 00:00:00+00:00</th>\n",
       "      <td>291.0</td>\n",
       "    </tr>\n",
       "  </tbody>\n",
       "</table>\n",
       "</div>"
      ],
      "text/plain": [
       "                           value\n",
       "timestamp                       \n",
       "2010-01-01 00:00:00+00:00  269.0\n",
       "2011-01-01 00:00:00+00:00  291.0"
      ]
     },
     "execution_count": 13,
     "metadata": {},
     "output_type": "execute_result"
    }
   ],
   "source": [
    "response_df"
   ]
  },
  {
   "cell_type": "markdown",
   "metadata": {},
   "source": [
    "You can write the response to a JSON file using"
   ]
  },
  {
   "cell_type": "code",
   "execution_count": 14,
   "metadata": {},
   "outputs": [],
   "source": [
    "response.to_json(\"./highways_count.json\")"
   ]
  },
  {
   "cell_type": "markdown",
   "metadata": {},
   "source": [
    "### Group number of highways by boundary"
   ]
  },
  {
   "cell_type": "markdown",
   "metadata": {},
   "source": [
    "If you want to query the number of highways within several bounding boxes you can specify them using a nested list "
   ]
  },
  {
   "cell_type": "code",
   "execution_count": 15,
   "metadata": {},
   "outputs": [],
   "source": [
    "bboxes = [[8.67066,49.41423,8.68177,49.4204], [8.68551,49.40086,8.68937,49.40315]]"
   ]
  },
  {
   "cell_type": "markdown",
   "metadata": {},
   "source": [
    "or a dictionary if you want to pass ids "
   ]
  },
  {
   "cell_type": "code",
   "execution_count": 16,
   "metadata": {},
   "outputs": [],
   "source": [
    "bboxes = {\"INF\": [8.67066,49.41423,8.68177,49.4204], \"Weststadt\": [8.68551,49.40086,8.68937,49.40315]}"
   ]
  },
  {
   "cell_type": "markdown",
   "metadata": {},
   "source": [
    "To get separate counts for the bounding boxs, we need to ad `groupByBoundary` to the query."
   ]
  },
  {
   "cell_type": "code",
   "execution_count": 17,
   "metadata": {},
   "outputs": [
    {
     "data": {
      "text/html": [
       "<div>\n",
       "<style scoped>\n",
       "    .dataframe tbody tr th:only-of-type {\n",
       "        vertical-align: middle;\n",
       "    }\n",
       "\n",
       "    .dataframe tbody tr th {\n",
       "        vertical-align: top;\n",
       "    }\n",
       "\n",
       "    .dataframe thead th {\n",
       "        text-align: right;\n",
       "    }\n",
       "</style>\n",
       "<table border=\"1\" class=\"dataframe\">\n",
       "  <thead>\n",
       "    <tr style=\"text-align: right;\">\n",
       "      <th></th>\n",
       "      <th></th>\n",
       "      <th>value</th>\n",
       "    </tr>\n",
       "    <tr>\n",
       "      <th>boundary</th>\n",
       "      <th>timestamp</th>\n",
       "      <th></th>\n",
       "    </tr>\n",
       "  </thead>\n",
       "  <tbody>\n",
       "    <tr>\n",
       "      <th rowspan=\"2\" valign=\"top\">INF</th>\n",
       "      <th>2010-01-01 00:00:00+00:00</th>\n",
       "      <td>269.0</td>\n",
       "    </tr>\n",
       "    <tr>\n",
       "      <th>2011-01-01 00:00:00+00:00</th>\n",
       "      <td>291.0</td>\n",
       "    </tr>\n",
       "    <tr>\n",
       "      <th rowspan=\"2\" valign=\"top\">Weststadt</th>\n",
       "      <th>2010-01-01 00:00:00+00:00</th>\n",
       "      <td>13.0</td>\n",
       "    </tr>\n",
       "    <tr>\n",
       "      <th>2011-01-01 00:00:00+00:00</th>\n",
       "      <td>13.0</td>\n",
       "    </tr>\n",
       "  </tbody>\n",
       "</table>\n",
       "</div>"
      ],
      "text/plain": [
       "                                     value\n",
       "boundary  timestamp                       \n",
       "INF       2010-01-01 00:00:00+00:00  269.0\n",
       "          2011-01-01 00:00:00+00:00  291.0\n",
       "Weststadt 2010-01-01 00:00:00+00:00   13.0\n",
       "          2011-01-01 00:00:00+00:00   13.0"
      ]
     },
     "execution_count": 17,
     "metadata": {},
     "output_type": "execute_result"
    }
   ],
   "source": [
    "response = client.elements.count.groupByBoundary.post(bboxes=bboxes, time=time, filter=filter)\n",
    "response_df = response.as_dataframe()\n",
    "response_df"
   ]
  },
  {
   "cell_type": "markdown",
   "metadata": {},
   "source": [
    "The response is converted to a dataframe with a `MultiIndex`, which makes it easier to select subsets of the data based on the boundary and time attributes."
   ]
  },
  {
   "cell_type": "code",
   "execution_count": 18,
   "metadata": {},
   "outputs": [
    {
     "data": {
      "text/html": [
       "<div>\n",
       "<style scoped>\n",
       "    .dataframe tbody tr th:only-of-type {\n",
       "        vertical-align: middle;\n",
       "    }\n",
       "\n",
       "    .dataframe tbody tr th {\n",
       "        vertical-align: top;\n",
       "    }\n",
       "\n",
       "    .dataframe thead th {\n",
       "        text-align: right;\n",
       "    }\n",
       "</style>\n",
       "<table border=\"1\" class=\"dataframe\">\n",
       "  <thead>\n",
       "    <tr style=\"text-align: right;\">\n",
       "      <th></th>\n",
       "      <th></th>\n",
       "      <th>value</th>\n",
       "    </tr>\n",
       "    <tr>\n",
       "      <th>boundary</th>\n",
       "      <th>timestamp</th>\n",
       "      <th></th>\n",
       "    </tr>\n",
       "  </thead>\n",
       "  <tbody>\n",
       "    <tr>\n",
       "      <th rowspan=\"2\" valign=\"top\">INF</th>\n",
       "      <th>2010-01-01 00:00:00+00:00</th>\n",
       "      <td>269.0</td>\n",
       "    </tr>\n",
       "    <tr>\n",
       "      <th>2011-01-01 00:00:00+00:00</th>\n",
       "      <td>291.0</td>\n",
       "    </tr>\n",
       "  </tbody>\n",
       "</table>\n",
       "</div>"
      ],
      "text/plain": [
       "                                    value\n",
       "boundary timestamp                       \n",
       "INF      2010-01-01 00:00:00+00:00  269.0\n",
       "         2011-01-01 00:00:00+00:00  291.0"
      ]
     },
     "execution_count": 18,
     "metadata": {},
     "output_type": "execute_result"
    }
   ],
   "source": [
    "response_df.loc[(\"INF\", slice(None)),:]"
   ]
  },
  {
   "cell_type": "code",
   "execution_count": 19,
   "metadata": {
    "scrolled": true
   },
   "outputs": [
    {
     "data": {
      "text/html": [
       "<div>\n",
       "<style scoped>\n",
       "    .dataframe tbody tr th:only-of-type {\n",
       "        vertical-align: middle;\n",
       "    }\n",
       "\n",
       "    .dataframe tbody tr th {\n",
       "        vertical-align: top;\n",
       "    }\n",
       "\n",
       "    .dataframe thead th {\n",
       "        text-align: right;\n",
       "    }\n",
       "</style>\n",
       "<table border=\"1\" class=\"dataframe\">\n",
       "  <thead>\n",
       "    <tr style=\"text-align: right;\">\n",
       "      <th></th>\n",
       "      <th></th>\n",
       "      <th>value</th>\n",
       "    </tr>\n",
       "    <tr>\n",
       "      <th>boundary</th>\n",
       "      <th>timestamp</th>\n",
       "      <th></th>\n",
       "    </tr>\n",
       "  </thead>\n",
       "  <tbody>\n",
       "    <tr>\n",
       "      <th>INF</th>\n",
       "      <th>2010-01-01 00:00:00+00:00</th>\n",
       "      <td>269.0</td>\n",
       "    </tr>\n",
       "    <tr>\n",
       "      <th>Weststadt</th>\n",
       "      <th>2010-01-01 00:00:00+00:00</th>\n",
       "      <td>13.0</td>\n",
       "    </tr>\n",
       "  </tbody>\n",
       "</table>\n",
       "</div>"
      ],
      "text/plain": [
       "                                     value\n",
       "boundary  timestamp                       \n",
       "INF       2010-01-01 00:00:00+00:00  269.0\n",
       "Weststadt 2010-01-01 00:00:00+00:00   13.0"
      ]
     },
     "execution_count": 19,
     "metadata": {},
     "output_type": "execute_result"
    }
   ],
   "source": [
    "response_df.loc[(slice(None), \"2010-01-01\"),:]"
   ]
  },
  {
   "cell_type": "markdown",
   "metadata": {},
   "source": [
    "### Group number of highways by boundary and tag"
   ]
  },
  {
   "cell_type": "markdown",
   "metadata": {},
   "source": [
    "Grouping the result by tag, will result in a dataframe with three index levels."
   ]
  },
  {
   "cell_type": "code",
   "execution_count": 20,
   "metadata": {},
   "outputs": [],
   "source": [
    "groupByKey = \"highway\"\n",
    "flter = \"highway=* and type:way\"\n",
    "response = client.elements.count.groupByBoundary.groupByTag.post(bboxes=bboxes, time=time, \n",
    "                                                                 filter=flter, groupByKey=groupByKey)\n",
    "response_df = response.as_dataframe()"
   ]
  },
  {
   "cell_type": "code",
   "execution_count": 21,
   "metadata": {},
   "outputs": [
    {
     "data": {
      "text/html": [
       "<div>\n",
       "<style scoped>\n",
       "    .dataframe tbody tr th:only-of-type {\n",
       "        vertical-align: middle;\n",
       "    }\n",
       "\n",
       "    .dataframe tbody tr th {\n",
       "        vertical-align: top;\n",
       "    }\n",
       "\n",
       "    .dataframe thead th {\n",
       "        text-align: right;\n",
       "    }\n",
       "</style>\n",
       "<table border=\"1\" class=\"dataframe\">\n",
       "  <thead>\n",
       "    <tr style=\"text-align: right;\">\n",
       "      <th></th>\n",
       "      <th></th>\n",
       "      <th>value</th>\n",
       "    </tr>\n",
       "    <tr>\n",
       "      <th>boundary</th>\n",
       "      <th>tag</th>\n",
       "      <th></th>\n",
       "    </tr>\n",
       "  </thead>\n",
       "  <tbody>\n",
       "    <tr>\n",
       "      <th rowspan=\"11\" valign=\"top\">INF</th>\n",
       "      <th>highway=cycleway</th>\n",
       "      <td>5.0</td>\n",
       "    </tr>\n",
       "    <tr>\n",
       "      <th>highway=footway</th>\n",
       "      <td>116.0</td>\n",
       "    </tr>\n",
       "    <tr>\n",
       "      <th>highway=living_street</th>\n",
       "      <td>0.0</td>\n",
       "    </tr>\n",
       "    <tr>\n",
       "      <th>highway=path</th>\n",
       "      <td>6.0</td>\n",
       "    </tr>\n",
       "    <tr>\n",
       "      <th>highway=pedestrian</th>\n",
       "      <td>8.0</td>\n",
       "    </tr>\n",
       "    <tr>\n",
       "      <th>highway=primary</th>\n",
       "      <td>8.0</td>\n",
       "    </tr>\n",
       "    <tr>\n",
       "      <th>highway=residential</th>\n",
       "      <td>20.0</td>\n",
       "    </tr>\n",
       "    <tr>\n",
       "      <th>highway=service</th>\n",
       "      <td>77.0</td>\n",
       "    </tr>\n",
       "    <tr>\n",
       "      <th>highway=steps</th>\n",
       "      <td>9.0</td>\n",
       "    </tr>\n",
       "    <tr>\n",
       "      <th>highway=track</th>\n",
       "      <td>3.0</td>\n",
       "    </tr>\n",
       "    <tr>\n",
       "      <th>highway=unclassified</th>\n",
       "      <td>17.0</td>\n",
       "    </tr>\n",
       "    <tr>\n",
       "      <th rowspan=\"11\" valign=\"top\">Weststadt</th>\n",
       "      <th>highway=cycleway</th>\n",
       "      <td>0.0</td>\n",
       "    </tr>\n",
       "    <tr>\n",
       "      <th>highway=footway</th>\n",
       "      <td>1.0</td>\n",
       "    </tr>\n",
       "    <tr>\n",
       "      <th>highway=living_street</th>\n",
       "      <td>11.0</td>\n",
       "    </tr>\n",
       "    <tr>\n",
       "      <th>highway=path</th>\n",
       "      <td>0.0</td>\n",
       "    </tr>\n",
       "    <tr>\n",
       "      <th>highway=pedestrian</th>\n",
       "      <td>0.0</td>\n",
       "    </tr>\n",
       "    <tr>\n",
       "      <th>highway=primary</th>\n",
       "      <td>0.0</td>\n",
       "    </tr>\n",
       "    <tr>\n",
       "      <th>highway=residential</th>\n",
       "      <td>1.0</td>\n",
       "    </tr>\n",
       "    <tr>\n",
       "      <th>highway=service</th>\n",
       "      <td>0.0</td>\n",
       "    </tr>\n",
       "    <tr>\n",
       "      <th>highway=steps</th>\n",
       "      <td>0.0</td>\n",
       "    </tr>\n",
       "    <tr>\n",
       "      <th>highway=track</th>\n",
       "      <td>0.0</td>\n",
       "    </tr>\n",
       "    <tr>\n",
       "      <th>highway=unclassified</th>\n",
       "      <td>0.0</td>\n",
       "    </tr>\n",
       "  </tbody>\n",
       "</table>\n",
       "</div>"
      ],
      "text/plain": [
       "                                 value\n",
       "boundary  tag                         \n",
       "INF       highway=cycleway         5.0\n",
       "          highway=footway        116.0\n",
       "          highway=living_street    0.0\n",
       "          highway=path             6.0\n",
       "          highway=pedestrian       8.0\n",
       "          highway=primary          8.0\n",
       "          highway=residential     20.0\n",
       "          highway=service         77.0\n",
       "          highway=steps            9.0\n",
       "          highway=track            3.0\n",
       "          highway=unclassified    17.0\n",
       "Weststadt highway=cycleway         0.0\n",
       "          highway=footway          1.0\n",
       "          highway=living_street   11.0\n",
       "          highway=path             0.0\n",
       "          highway=pedestrian       0.0\n",
       "          highway=primary          0.0\n",
       "          highway=residential      1.0\n",
       "          highway=service          0.0\n",
       "          highway=steps            0.0\n",
       "          highway=track            0.0\n",
       "          highway=unclassified     0.0"
      ]
     },
     "execution_count": 21,
     "metadata": {},
     "output_type": "execute_result"
    }
   ],
   "source": [
    "response_df.loc[(slice(None), slice(None), \"2010-01-01\"),:].droplevel(2)"
   ]
  },
  {
   "cell_type": "markdown",
   "metadata": {
    "pycharm": {}
   },
   "source": [
    "## 2. Data Extraction"
   ]
  },
  {
   "cell_type": "markdown",
   "metadata": {
    "pycharm": {}
   },
   "source": [
    "You can also download OSM features (and optionally their history) at any timestamp using the [Data Extraction](https://api.ohsome.org/v0.9/swagger-ui.html?urls.primaryName=Data%20Extraction) endpoints."
   ]
  },
  {
   "cell_type": "code",
   "execution_count": 22,
   "metadata": {},
   "outputs": [],
   "source": [
    "client = OhsomeClient()"
   ]
  },
  {
   "cell_type": "markdown",
   "metadata": {},
   "source": [
    "### Extracting buildings\n",
    "\n",
    "Extracting OSM features at a specific point in time is done through the [elements/geometry](https://api.ohsome.org/v1/swagger-ui.html?urls.primaryName=Data%20Extraction#/) endpoint. It is also possible to only retrieve the [centroids](https://api.ohsome.org/v1/swagger-ui.html?urls.primaryName=Data%20Extraction#/Data%20Extraction/centroid_1) or [bounding boxes](https://api.ohsome.org/v1/swagger-ui.html?urls.primaryName=Data%20Extraction#/Data%20Extraction/bbox_1) of the features. "
   ]
  },
  {
   "cell_type": "markdown",
   "metadata": {},
   "source": [
    "__Example:__ Extract all building features with their geometry on 2010-01-01 at Heidelberg University. "
   ]
  },
  {
   "cell_type": "code",
   "execution_count": 23,
   "metadata": {
    "pycharm": {}
   },
   "outputs": [],
   "source": [
    "bboxes = [8.67066,49.41423,8.68177,49.4204]\n",
    "time = \"2020-01-01\"\n",
    "flter = \"building=* and type:way\"\n",
    "properties = \"tags\" # to retreive OSM tags along with the geometries"
   ]
  },
  {
   "cell_type": "code",
   "execution_count": 24,
   "metadata": {
    "pycharm": {}
   },
   "outputs": [],
   "source": [
    "response = client.elements.geometry.post(bboxes=bboxes, time=time, filter=flter, properties=properties)"
   ]
  },
  {
   "cell_type": "markdown",
   "metadata": {},
   "source": [
    "Calling `as_geodataframe()` converts the response to a `geopandas.GeoDataFrame`."
   ]
  },
  {
   "cell_type": "code",
   "execution_count": 25,
   "metadata": {
    "pycharm": {}
   },
   "outputs": [],
   "source": [
    "response_gdf = response.as_geodataframe()"
   ]
  },
  {
   "cell_type": "code",
   "execution_count": 26,
   "metadata": {},
   "outputs": [
    {
     "data": {
      "text/html": [
       "<div>\n",
       "<style scoped>\n",
       "    .dataframe tbody tr th:only-of-type {\n",
       "        vertical-align: middle;\n",
       "    }\n",
       "\n",
       "    .dataframe tbody tr th {\n",
       "        vertical-align: top;\n",
       "    }\n",
       "\n",
       "    .dataframe thead th {\n",
       "        text-align: right;\n",
       "    }\n",
       "</style>\n",
       "<table border=\"1\" class=\"dataframe\">\n",
       "  <thead>\n",
       "    <tr style=\"text-align: right;\">\n",
       "      <th></th>\n",
       "      <th></th>\n",
       "      <th>geometry</th>\n",
       "      <th>addr:city</th>\n",
       "      <th>addr:housenumber</th>\n",
       "      <th>addr:postcode</th>\n",
       "      <th>addr:street</th>\n",
       "      <th>building</th>\n",
       "      <th>building:levels</th>\n",
       "      <th>name</th>\n",
       "      <th>office</th>\n",
       "      <th>short_name</th>\n",
       "      <th>...</th>\n",
       "      <th>fuel:diesel</th>\n",
       "      <th>fuel:octane_95</th>\n",
       "      <th>roof:orientation</th>\n",
       "      <th>layer</th>\n",
       "      <th>construction</th>\n",
       "      <th>stairwell</th>\n",
       "      <th>bicycle_parking</th>\n",
       "      <th>capacity</th>\n",
       "      <th>covered</th>\n",
       "      <th>power</th>\n",
       "    </tr>\n",
       "    <tr>\n",
       "      <th>@osmId</th>\n",
       "      <th>@snapshotTimestamp</th>\n",
       "      <th></th>\n",
       "      <th></th>\n",
       "      <th></th>\n",
       "      <th></th>\n",
       "      <th></th>\n",
       "      <th></th>\n",
       "      <th></th>\n",
       "      <th></th>\n",
       "      <th></th>\n",
       "      <th></th>\n",
       "      <th></th>\n",
       "      <th></th>\n",
       "      <th></th>\n",
       "      <th></th>\n",
       "      <th></th>\n",
       "      <th></th>\n",
       "      <th></th>\n",
       "      <th></th>\n",
       "      <th></th>\n",
       "      <th></th>\n",
       "      <th></th>\n",
       "    </tr>\n",
       "  </thead>\n",
       "  <tbody>\n",
       "    <tr>\n",
       "      <th>way/116595528</th>\n",
       "      <th>2020-01-01</th>\n",
       "      <td>POLYGON ((8.67688 49.41799, 8.67749 49.41809, ...</td>\n",
       "      <td>Heidelberg</td>\n",
       "      <td>9</td>\n",
       "      <td>69120</td>\n",
       "      <td>Gundolfstraße</td>\n",
       "      <td>yes</td>\n",
       "      <td>4</td>\n",
       "      <td>NaN</td>\n",
       "      <td>NaN</td>\n",
       "      <td>NaN</td>\n",
       "      <td>...</td>\n",
       "      <td>NaN</td>\n",
       "      <td>NaN</td>\n",
       "      <td>NaN</td>\n",
       "      <td>NaN</td>\n",
       "      <td>NaN</td>\n",
       "      <td>NaN</td>\n",
       "      <td>NaN</td>\n",
       "      <td>NaN</td>\n",
       "      <td>NaN</td>\n",
       "      <td>NaN</td>\n",
       "    </tr>\n",
       "    <tr>\n",
       "      <th>way/139641705</th>\n",
       "      <th>2020-01-01</th>\n",
       "      <td>POLYGON ((8.67087 49.41635, 8.67096 49.41635, ...</td>\n",
       "      <td>Heidelberg</td>\n",
       "      <td>305</td>\n",
       "      <td>69120</td>\n",
       "      <td>Im Neuenheimer Feld</td>\n",
       "      <td>university</td>\n",
       "      <td>NaN</td>\n",
       "      <td>Institut für Immunologie und Serologie / Unishop</td>\n",
       "      <td>NaN</td>\n",
       "      <td>NaN</td>\n",
       "      <td>...</td>\n",
       "      <td>NaN</td>\n",
       "      <td>NaN</td>\n",
       "      <td>NaN</td>\n",
       "      <td>NaN</td>\n",
       "      <td>NaN</td>\n",
       "      <td>NaN</td>\n",
       "      <td>NaN</td>\n",
       "      <td>NaN</td>\n",
       "      <td>NaN</td>\n",
       "      <td>NaN</td>\n",
       "    </tr>\n",
       "    <tr>\n",
       "      <th>way/141216650</th>\n",
       "      <th>2020-01-01</th>\n",
       "      <td>POLYGON ((8.67091 49.41682, 8.67106 49.41682, ...</td>\n",
       "      <td>Heidelberg</td>\n",
       "      <td>306</td>\n",
       "      <td>69120</td>\n",
       "      <td>Im Neuenheimer Feld</td>\n",
       "      <td>university</td>\n",
       "      <td>NaN</td>\n",
       "      <td>Theoretikum, Unterrichtsbereich</td>\n",
       "      <td>NaN</td>\n",
       "      <td>NaN</td>\n",
       "      <td>...</td>\n",
       "      <td>NaN</td>\n",
       "      <td>NaN</td>\n",
       "      <td>NaN</td>\n",
       "      <td>NaN</td>\n",
       "      <td>NaN</td>\n",
       "      <td>NaN</td>\n",
       "      <td>NaN</td>\n",
       "      <td>NaN</td>\n",
       "      <td>NaN</td>\n",
       "      <td>NaN</td>\n",
       "    </tr>\n",
       "    <tr>\n",
       "      <th>way/141216656</th>\n",
       "      <th>2020-01-01</th>\n",
       "      <td>POLYGON ((8.67066 49.41715, 8.67070 49.41715, ...</td>\n",
       "      <td>Heidelberg</td>\n",
       "      <td>307</td>\n",
       "      <td>69120</td>\n",
       "      <td>Im Neuenheimer Feld</td>\n",
       "      <td>university</td>\n",
       "      <td>NaN</td>\n",
       "      <td>Institut für Anatomie</td>\n",
       "      <td>NaN</td>\n",
       "      <td>NaN</td>\n",
       "      <td>...</td>\n",
       "      <td>NaN</td>\n",
       "      <td>NaN</td>\n",
       "      <td>NaN</td>\n",
       "      <td>NaN</td>\n",
       "      <td>NaN</td>\n",
       "      <td>NaN</td>\n",
       "      <td>NaN</td>\n",
       "      <td>NaN</td>\n",
       "      <td>NaN</td>\n",
       "      <td>NaN</td>\n",
       "    </tr>\n",
       "    <tr>\n",
       "      <th>way/141216661</th>\n",
       "      <th>2020-01-01</th>\n",
       "      <td>POLYGON ((8.67066 49.41762, 8.67066 49.41762, ...</td>\n",
       "      <td>Heidelberg</td>\n",
       "      <td>308</td>\n",
       "      <td>69120</td>\n",
       "      <td>Im Neuenheimer Feld</td>\n",
       "      <td>university</td>\n",
       "      <td>NaN</td>\n",
       "      <td>Hörsäle Physik</td>\n",
       "      <td>NaN</td>\n",
       "      <td>NaN</td>\n",
       "      <td>...</td>\n",
       "      <td>NaN</td>\n",
       "      <td>NaN</td>\n",
       "      <td>NaN</td>\n",
       "      <td>NaN</td>\n",
       "      <td>NaN</td>\n",
       "      <td>NaN</td>\n",
       "      <td>NaN</td>\n",
       "      <td>NaN</td>\n",
       "      <td>NaN</td>\n",
       "      <td>NaN</td>\n",
       "    </tr>\n",
       "  </tbody>\n",
       "</table>\n",
       "<p>5 rows × 78 columns</p>\n",
       "</div>"
      ],
      "text/plain": [
       "                                                                           geometry  \\\n",
       "@osmId        @snapshotTimestamp                                                      \n",
       "way/116595528 2020-01-01          POLYGON ((8.67688 49.41799, 8.67749 49.41809, ...   \n",
       "way/139641705 2020-01-01          POLYGON ((8.67087 49.41635, 8.67096 49.41635, ...   \n",
       "way/141216650 2020-01-01          POLYGON ((8.67091 49.41682, 8.67106 49.41682, ...   \n",
       "way/141216656 2020-01-01          POLYGON ((8.67066 49.41715, 8.67070 49.41715, ...   \n",
       "way/141216661 2020-01-01          POLYGON ((8.67066 49.41762, 8.67066 49.41762, ...   \n",
       "\n",
       "                                   addr:city addr:housenumber addr:postcode  \\\n",
       "@osmId        @snapshotTimestamp                                              \n",
       "way/116595528 2020-01-01          Heidelberg                9         69120   \n",
       "way/139641705 2020-01-01          Heidelberg              305         69120   \n",
       "way/141216650 2020-01-01          Heidelberg              306         69120   \n",
       "way/141216656 2020-01-01          Heidelberg              307         69120   \n",
       "way/141216661 2020-01-01          Heidelberg              308         69120   \n",
       "\n",
       "                                          addr:street    building  \\\n",
       "@osmId        @snapshotTimestamp                                    \n",
       "way/116595528 2020-01-01                Gundolfstraße         yes   \n",
       "way/139641705 2020-01-01          Im Neuenheimer Feld  university   \n",
       "way/141216650 2020-01-01          Im Neuenheimer Feld  university   \n",
       "way/141216656 2020-01-01          Im Neuenheimer Feld  university   \n",
       "way/141216661 2020-01-01          Im Neuenheimer Feld  university   \n",
       "\n",
       "                                 building:levels  \\\n",
       "@osmId        @snapshotTimestamp                   \n",
       "way/116595528 2020-01-01                       4   \n",
       "way/139641705 2020-01-01                     NaN   \n",
       "way/141216650 2020-01-01                     NaN   \n",
       "way/141216656 2020-01-01                     NaN   \n",
       "way/141216661 2020-01-01                     NaN   \n",
       "\n",
       "                                                                              name  \\\n",
       "@osmId        @snapshotTimestamp                                                     \n",
       "way/116595528 2020-01-01                                                       NaN   \n",
       "way/139641705 2020-01-01          Institut für Immunologie und Serologie / Unishop   \n",
       "way/141216650 2020-01-01                           Theoretikum, Unterrichtsbereich   \n",
       "way/141216656 2020-01-01                                     Institut für Anatomie   \n",
       "way/141216661 2020-01-01                                            Hörsäle Physik   \n",
       "\n",
       "                                 office short_name  ... fuel:diesel  \\\n",
       "@osmId        @snapshotTimestamp                    ...               \n",
       "way/116595528 2020-01-01            NaN        NaN  ...         NaN   \n",
       "way/139641705 2020-01-01            NaN        NaN  ...         NaN   \n",
       "way/141216650 2020-01-01            NaN        NaN  ...         NaN   \n",
       "way/141216656 2020-01-01            NaN        NaN  ...         NaN   \n",
       "way/141216661 2020-01-01            NaN        NaN  ...         NaN   \n",
       "\n",
       "                                 fuel:octane_95 roof:orientation layer  \\\n",
       "@osmId        @snapshotTimestamp                                         \n",
       "way/116595528 2020-01-01                    NaN              NaN   NaN   \n",
       "way/139641705 2020-01-01                    NaN              NaN   NaN   \n",
       "way/141216650 2020-01-01                    NaN              NaN   NaN   \n",
       "way/141216656 2020-01-01                    NaN              NaN   NaN   \n",
       "way/141216661 2020-01-01                    NaN              NaN   NaN   \n",
       "\n",
       "                                 construction stairwell bicycle_parking  \\\n",
       "@osmId        @snapshotTimestamp                                          \n",
       "way/116595528 2020-01-01                  NaN       NaN             NaN   \n",
       "way/139641705 2020-01-01                  NaN       NaN             NaN   \n",
       "way/141216650 2020-01-01                  NaN       NaN             NaN   \n",
       "way/141216656 2020-01-01                  NaN       NaN             NaN   \n",
       "way/141216661 2020-01-01                  NaN       NaN             NaN   \n",
       "\n",
       "                                 capacity covered power  \n",
       "@osmId        @snapshotTimestamp                         \n",
       "way/116595528 2020-01-01              NaN     NaN   NaN  \n",
       "way/139641705 2020-01-01              NaN     NaN   NaN  \n",
       "way/141216650 2020-01-01              NaN     NaN   NaN  \n",
       "way/141216656 2020-01-01              NaN     NaN   NaN  \n",
       "way/141216661 2020-01-01              NaN     NaN   NaN  \n",
       "\n",
       "[5 rows x 78 columns]"
      ]
     },
     "execution_count": 26,
     "metadata": {},
     "output_type": "execute_result"
    }
   ],
   "source": [
    "response_gdf.head()"
   ]
  },
  {
   "cell_type": "code",
   "execution_count": 27,
   "metadata": {
    "pycharm": {},
    "scrolled": true
   },
   "outputs": [
    {
     "data": {
      "text/plain": [
       "<matplotlib.axes._subplots.AxesSubplot at 0x7feaf2a8d9d0>"
      ]
     },
     "execution_count": 27,
     "metadata": {},
     "output_type": "execute_result"
    },
    {
     "data": {
      "image/png": "[encoded data removed]",
      "text/plain": [
       "<Figure size 432x288 with 1 Axes>"
      ]
     },
     "metadata": {
      "needs_background": "light"
     },
     "output_type": "display_data"
    }
   ],
   "source": [
    "response_gdf.plot()"
   ]
  },
  {
   "cell_type": "markdown",
   "metadata": {},
   "source": [
    "You may write the reponse to file using"
   ]
  },
  {
   "cell_type": "code",
   "execution_count": 28,
   "metadata": {
    "pycharm": {}
   },
   "outputs": [],
   "source": [
    "response.to_json(\"./buildings_inf.geojson\")"
   ]
  },
  {
   "cell_type": "markdown",
   "metadata": {},
   "source": [
    "### Extracting Full History of OSM building \n",
    "\n",
    "Using the [elementsFullHistory](https://api.ohsome.org/v1/swagger-ui.html?urls.primaryName=Data%20Extraction#/Full-History%20Data%20Extraction/fullHistory_1) endpoints you can query all versions of the OSM features within a time period. "
   ]
  },
  {
   "cell_type": "markdown",
   "metadata": {},
   "source": [
    "__Example:__ Extract all buildings features with their history between 2010 and 2018."
   ]
  },
  {
   "cell_type": "code",
   "execution_count": 29,
   "metadata": {},
   "outputs": [],
   "source": [
    "bboxes = \"8.67066,49.41423,8.68177,49.4204\"\n",
    "time = \"2010-01-01,2018-01-01\"\n",
    "flter = \"building=* and type:way\"\n",
    "properties = \"tags\" # to retreive OSM tags along with the geometries"
   ]
  },
  {
   "cell_type": "code",
   "execution_count": 30,
   "metadata": {
    "pycharm": {}
   },
   "outputs": [],
   "source": [
    "client = OhsomeClient()\n",
    "response = client.elementsFullHistory.geometry.post(bboxes=bboxes, time=time, filter=flter, properties=properties)"
   ]
  },
  {
   "cell_type": "markdown",
   "metadata": {},
   "source": [
    "Using the method `as_geodataframe()` the response is converted to a `GeoDataFrame` with a multiindex containing OSM ID, validFrom and validTo parameters."
   ]
  },
  {
   "cell_type": "code",
   "execution_count": 31,
   "metadata": {},
   "outputs": [
    {
     "data": {
      "text/html": [
       "<div>\n",
       "<style scoped>\n",
       "    .dataframe tbody tr th:only-of-type {\n",
       "        vertical-align: middle;\n",
       "    }\n",
       "\n",
       "    .dataframe tbody tr th {\n",
       "        vertical-align: top;\n",
       "    }\n",
       "\n",
       "    .dataframe thead th {\n",
       "        text-align: right;\n",
       "    }\n",
       "</style>\n",
       "<table border=\"1\" class=\"dataframe\">\n",
       "  <thead>\n",
       "    <tr style=\"text-align: right;\">\n",
       "      <th></th>\n",
       "      <th></th>\n",
       "      <th></th>\n",
       "      <th>geometry</th>\n",
       "      <th>addr:housenumber</th>\n",
       "      <th>building</th>\n",
       "      <th>building:material</th>\n",
       "      <th>addr:city</th>\n",
       "      <th>addr:postcode</th>\n",
       "      <th>addr:province</th>\n",
       "      <th>addr:street</th>\n",
       "      <th>amenity</th>\n",
       "      <th>name</th>\n",
       "      <th>...</th>\n",
       "      <th>fuel:octane_95</th>\n",
       "      <th>atm</th>\n",
       "      <th>wheelchair:toilet</th>\n",
       "      <th>books</th>\n",
       "      <th>shop</th>\n",
       "      <th>university</th>\n",
       "      <th>INF 230</th>\n",
       "      <th>layer</th>\n",
       "      <th>construction</th>\n",
       "      <th>stairwell</th>\n",
       "    </tr>\n",
       "    <tr>\n",
       "      <th>@osmId</th>\n",
       "      <th>@validFrom</th>\n",
       "      <th>@validTo</th>\n",
       "      <th></th>\n",
       "      <th></th>\n",
       "      <th></th>\n",
       "      <th></th>\n",
       "      <th></th>\n",
       "      <th></th>\n",
       "      <th></th>\n",
       "      <th></th>\n",
       "      <th></th>\n",
       "      <th></th>\n",
       "      <th></th>\n",
       "      <th></th>\n",
       "      <th></th>\n",
       "      <th></th>\n",
       "      <th></th>\n",
       "      <th></th>\n",
       "      <th></th>\n",
       "      <th></th>\n",
       "      <th></th>\n",
       "      <th></th>\n",
       "      <th></th>\n",
       "    </tr>\n",
       "  </thead>\n",
       "  <tbody>\n",
       "    <tr>\n",
       "      <th rowspan=\"2\" valign=\"top\">way/116595528</th>\n",
       "      <th>2011-06-06 12:51:43</th>\n",
       "      <th>2014-10-10 11:24:01</th>\n",
       "      <td>POLYGON ((8.67686 49.41804, 8.67747 49.41814, ...</td>\n",
       "      <td>NaN</td>\n",
       "      <td>yes</td>\n",
       "      <td>NaN</td>\n",
       "      <td>NaN</td>\n",
       "      <td>NaN</td>\n",
       "      <td>NaN</td>\n",
       "      <td>NaN</td>\n",
       "      <td>NaN</td>\n",
       "      <td>NaN</td>\n",
       "      <td>...</td>\n",
       "      <td>NaN</td>\n",
       "      <td>NaN</td>\n",
       "      <td>NaN</td>\n",
       "      <td>NaN</td>\n",
       "      <td>NaN</td>\n",
       "      <td>NaN</td>\n",
       "      <td>NaN</td>\n",
       "      <td>NaN</td>\n",
       "      <td>NaN</td>\n",
       "      <td>NaN</td>\n",
       "    </tr>\n",
       "    <tr>\n",
       "      <th>2014-10-10 11:24:01</th>\n",
       "      <th>2018-01-01 00:00:00</th>\n",
       "      <td>POLYGON ((8.67686 49.41804, 8.67747 49.41814, ...</td>\n",
       "      <td>9</td>\n",
       "      <td>yes</td>\n",
       "      <td>NaN</td>\n",
       "      <td>Heidelberg</td>\n",
       "      <td>69120</td>\n",
       "      <td>NaN</td>\n",
       "      <td>Gundolfstraße</td>\n",
       "      <td>NaN</td>\n",
       "      <td>NaN</td>\n",
       "      <td>...</td>\n",
       "      <td>NaN</td>\n",
       "      <td>NaN</td>\n",
       "      <td>NaN</td>\n",
       "      <td>NaN</td>\n",
       "      <td>NaN</td>\n",
       "      <td>NaN</td>\n",
       "      <td>NaN</td>\n",
       "      <td>NaN</td>\n",
       "      <td>NaN</td>\n",
       "      <td>NaN</td>\n",
       "    </tr>\n",
       "    <tr>\n",
       "      <th rowspan=\"3\" valign=\"top\">way/139641705</th>\n",
       "      <th>2011-12-14 15:12:21</th>\n",
       "      <th>2011-12-14 21:03:52</th>\n",
       "      <td>POLYGON ((8.67087 49.41635, 8.67096 49.41635, ...</td>\n",
       "      <td>305</td>\n",
       "      <td>yes</td>\n",
       "      <td>NaN</td>\n",
       "      <td>heidelberg</td>\n",
       "      <td>NaN</td>\n",
       "      <td>NaN</td>\n",
       "      <td>Im Neuenheimer Feld</td>\n",
       "      <td>university</td>\n",
       "      <td>INF 305</td>\n",
       "      <td>...</td>\n",
       "      <td>NaN</td>\n",
       "      <td>NaN</td>\n",
       "      <td>NaN</td>\n",
       "      <td>NaN</td>\n",
       "      <td>NaN</td>\n",
       "      <td>NaN</td>\n",
       "      <td>NaN</td>\n",
       "      <td>NaN</td>\n",
       "      <td>NaN</td>\n",
       "      <td>NaN</td>\n",
       "    </tr>\n",
       "    <tr>\n",
       "      <th>2011-12-14 21:03:52</th>\n",
       "      <th>2012-02-24 14:17:17</th>\n",
       "      <td>POLYGON ((8.67087 49.41635, 8.67096 49.41635, ...</td>\n",
       "      <td>305</td>\n",
       "      <td>yes</td>\n",
       "      <td>NaN</td>\n",
       "      <td>Heidelberg</td>\n",
       "      <td>NaN</td>\n",
       "      <td>NaN</td>\n",
       "      <td>Im Neuenheimer Feld</td>\n",
       "      <td>university</td>\n",
       "      <td>INF 305</td>\n",
       "      <td>...</td>\n",
       "      <td>NaN</td>\n",
       "      <td>NaN</td>\n",
       "      <td>NaN</td>\n",
       "      <td>NaN</td>\n",
       "      <td>NaN</td>\n",
       "      <td>NaN</td>\n",
       "      <td>NaN</td>\n",
       "      <td>NaN</td>\n",
       "      <td>NaN</td>\n",
       "      <td>NaN</td>\n",
       "    </tr>\n",
       "    <tr>\n",
       "      <th>2012-02-24 14:17:17</th>\n",
       "      <th>2012-08-24 11:10:31</th>\n",
       "      <td>POLYGON ((8.67087 49.41635, 8.67096 49.41635, ...</td>\n",
       "      <td>305</td>\n",
       "      <td>yes</td>\n",
       "      <td>NaN</td>\n",
       "      <td>Heidelberg</td>\n",
       "      <td>NaN</td>\n",
       "      <td>NaN</td>\n",
       "      <td>Im Neuenheimer Feld</td>\n",
       "      <td>NaN</td>\n",
       "      <td>INF 305</td>\n",
       "      <td>...</td>\n",
       "      <td>NaN</td>\n",
       "      <td>NaN</td>\n",
       "      <td>NaN</td>\n",
       "      <td>NaN</td>\n",
       "      <td>NaN</td>\n",
       "      <td>NaN</td>\n",
       "      <td>NaN</td>\n",
       "      <td>NaN</td>\n",
       "      <td>NaN</td>\n",
       "      <td>NaN</td>\n",
       "    </tr>\n",
       "  </tbody>\n",
       "</table>\n",
       "<p>5 rows × 86 columns</p>\n",
       "</div>"
      ],
      "text/plain": [
       "                                                                                                geometry  \\\n",
       "@osmId        @validFrom          @validTo                                                                 \n",
       "way/116595528 2011-06-06 12:51:43 2014-10-10 11:24:01  POLYGON ((8.67686 49.41804, 8.67747 49.41814, ...   \n",
       "              2014-10-10 11:24:01 2018-01-01 00:00:00  POLYGON ((8.67686 49.41804, 8.67747 49.41814, ...   \n",
       "way/139641705 2011-12-14 15:12:21 2011-12-14 21:03:52  POLYGON ((8.67087 49.41635, 8.67096 49.41635, ...   \n",
       "              2011-12-14 21:03:52 2012-02-24 14:17:17  POLYGON ((8.67087 49.41635, 8.67096 49.41635, ...   \n",
       "              2012-02-24 14:17:17 2012-08-24 11:10:31  POLYGON ((8.67087 49.41635, 8.67096 49.41635, ...   \n",
       "\n",
       "                                                      addr:housenumber  \\\n",
       "@osmId        @validFrom          @validTo                               \n",
       "way/116595528 2011-06-06 12:51:43 2014-10-10 11:24:01              NaN   \n",
       "              2014-10-10 11:24:01 2018-01-01 00:00:00                9   \n",
       "way/139641705 2011-12-14 15:12:21 2011-12-14 21:03:52              305   \n",
       "              2011-12-14 21:03:52 2012-02-24 14:17:17              305   \n",
       "              2012-02-24 14:17:17 2012-08-24 11:10:31              305   \n",
       "\n",
       "                                                      building  \\\n",
       "@osmId        @validFrom          @validTo                       \n",
       "way/116595528 2011-06-06 12:51:43 2014-10-10 11:24:01      yes   \n",
       "              2014-10-10 11:24:01 2018-01-01 00:00:00      yes   \n",
       "way/139641705 2011-12-14 15:12:21 2011-12-14 21:03:52      yes   \n",
       "              2011-12-14 21:03:52 2012-02-24 14:17:17      yes   \n",
       "              2012-02-24 14:17:17 2012-08-24 11:10:31      yes   \n",
       "\n",
       "                                                      building:material  \\\n",
       "@osmId        @validFrom          @validTo                                \n",
       "way/116595528 2011-06-06 12:51:43 2014-10-10 11:24:01               NaN   \n",
       "              2014-10-10 11:24:01 2018-01-01 00:00:00               NaN   \n",
       "way/139641705 2011-12-14 15:12:21 2011-12-14 21:03:52               NaN   \n",
       "              2011-12-14 21:03:52 2012-02-24 14:17:17               NaN   \n",
       "              2012-02-24 14:17:17 2012-08-24 11:10:31               NaN   \n",
       "\n",
       "                                                        addr:city  \\\n",
       "@osmId        @validFrom          @validTo                          \n",
       "way/116595528 2011-06-06 12:51:43 2014-10-10 11:24:01         NaN   \n",
       "              2014-10-10 11:24:01 2018-01-01 00:00:00  Heidelberg   \n",
       "way/139641705 2011-12-14 15:12:21 2011-12-14 21:03:52  heidelberg   \n",
       "              2011-12-14 21:03:52 2012-02-24 14:17:17  Heidelberg   \n",
       "              2012-02-24 14:17:17 2012-08-24 11:10:31  Heidelberg   \n",
       "\n",
       "                                                      addr:postcode  \\\n",
       "@osmId        @validFrom          @validTo                            \n",
       "way/116595528 2011-06-06 12:51:43 2014-10-10 11:24:01           NaN   \n",
       "              2014-10-10 11:24:01 2018-01-01 00:00:00         69120   \n",
       "way/139641705 2011-12-14 15:12:21 2011-12-14 21:03:52           NaN   \n",
       "              2011-12-14 21:03:52 2012-02-24 14:17:17           NaN   \n",
       "              2012-02-24 14:17:17 2012-08-24 11:10:31           NaN   \n",
       "\n",
       "                                                      addr:province  \\\n",
       "@osmId        @validFrom          @validTo                            \n",
       "way/116595528 2011-06-06 12:51:43 2014-10-10 11:24:01           NaN   \n",
       "              2014-10-10 11:24:01 2018-01-01 00:00:00           NaN   \n",
       "way/139641705 2011-12-14 15:12:21 2011-12-14 21:03:52           NaN   \n",
       "              2011-12-14 21:03:52 2012-02-24 14:17:17           NaN   \n",
       "              2012-02-24 14:17:17 2012-08-24 11:10:31           NaN   \n",
       "\n",
       "                                                               addr:street  \\\n",
       "@osmId        @validFrom          @validTo                                   \n",
       "way/116595528 2011-06-06 12:51:43 2014-10-10 11:24:01                  NaN   \n",
       "              2014-10-10 11:24:01 2018-01-01 00:00:00        Gundolfstraße   \n",
       "way/139641705 2011-12-14 15:12:21 2011-12-14 21:03:52  Im Neuenheimer Feld   \n",
       "              2011-12-14 21:03:52 2012-02-24 14:17:17  Im Neuenheimer Feld   \n",
       "              2012-02-24 14:17:17 2012-08-24 11:10:31  Im Neuenheimer Feld   \n",
       "\n",
       "                                                          amenity     name  \\\n",
       "@osmId        @validFrom          @validTo                                   \n",
       "way/116595528 2011-06-06 12:51:43 2014-10-10 11:24:01         NaN      NaN   \n",
       "              2014-10-10 11:24:01 2018-01-01 00:00:00         NaN      NaN   \n",
       "way/139641705 2011-12-14 15:12:21 2011-12-14 21:03:52  university  INF 305   \n",
       "              2011-12-14 21:03:52 2012-02-24 14:17:17  university  INF 305   \n",
       "              2012-02-24 14:17:17 2012-08-24 11:10:31         NaN  INF 305   \n",
       "\n",
       "                                                       ... fuel:octane_95  \\\n",
       "@osmId        @validFrom          @validTo             ...                  \n",
       "way/116595528 2011-06-06 12:51:43 2014-10-10 11:24:01  ...            NaN   \n",
       "              2014-10-10 11:24:01 2018-01-01 00:00:00  ...            NaN   \n",
       "way/139641705 2011-12-14 15:12:21 2011-12-14 21:03:52  ...            NaN   \n",
       "              2011-12-14 21:03:52 2012-02-24 14:17:17  ...            NaN   \n",
       "              2012-02-24 14:17:17 2012-08-24 11:10:31  ...            NaN   \n",
       "\n",
       "                                                       atm wheelchair:toilet  \\\n",
       "@osmId        @validFrom          @validTo                                     \n",
       "way/116595528 2011-06-06 12:51:43 2014-10-10 11:24:01  NaN               NaN   \n",
       "              2014-10-10 11:24:01 2018-01-01 00:00:00  NaN               NaN   \n",
       "way/139641705 2011-12-14 15:12:21 2011-12-14 21:03:52  NaN               NaN   \n",
       "              2011-12-14 21:03:52 2012-02-24 14:17:17  NaN               NaN   \n",
       "              2012-02-24 14:17:17 2012-08-24 11:10:31  NaN               NaN   \n",
       "\n",
       "                                                      books shop university  \\\n",
       "@osmId        @validFrom          @validTo                                    \n",
       "way/116595528 2011-06-06 12:51:43 2014-10-10 11:24:01   NaN  NaN        NaN   \n",
       "              2014-10-10 11:24:01 2018-01-01 00:00:00   NaN  NaN        NaN   \n",
       "way/139641705 2011-12-14 15:12:21 2011-12-14 21:03:52   NaN  NaN        NaN   \n",
       "              2011-12-14 21:03:52 2012-02-24 14:17:17   NaN  NaN        NaN   \n",
       "              2012-02-24 14:17:17 2012-08-24 11:10:31   NaN  NaN        NaN   \n",
       "\n",
       "                                                      INF 230 layer  \\\n",
       "@osmId        @validFrom          @validTo                            \n",
       "way/116595528 2011-06-06 12:51:43 2014-10-10 11:24:01     NaN   NaN   \n",
       "              2014-10-10 11:24:01 2018-01-01 00:00:00     NaN   NaN   \n",
       "way/139641705 2011-12-14 15:12:21 2011-12-14 21:03:52     NaN   NaN   \n",
       "              2011-12-14 21:03:52 2012-02-24 14:17:17     NaN   NaN   \n",
       "              2012-02-24 14:17:17 2012-08-24 11:10:31     NaN   NaN   \n",
       "\n",
       "                                                      construction stairwell  \n",
       "@osmId        @validFrom          @validTo                                    \n",
       "way/116595528 2011-06-06 12:51:43 2014-10-10 11:24:01          NaN       NaN  \n",
       "              2014-10-10 11:24:01 2018-01-01 00:00:00          NaN       NaN  \n",
       "way/139641705 2011-12-14 15:12:21 2011-12-14 21:03:52          NaN       NaN  \n",
       "              2011-12-14 21:03:52 2012-02-24 14:17:17          NaN       NaN  \n",
       "              2012-02-24 14:17:17 2012-08-24 11:10:31          NaN       NaN  \n",
       "\n",
       "[5 rows x 86 columns]"
      ]
     },
     "execution_count": 31,
     "metadata": {},
     "output_type": "execute_result"
    }
   ],
   "source": [
    "buildings_history = response.as_geodataframe()\n",
    "buildings_history.head()"
   ]
  },
  {
   "cell_type": "markdown",
   "metadata": {},
   "source": [
    "Since the timestamp is given in the index, you can slice the data as before. "
   ]
  },
  {
   "cell_type": "markdown",
   "metadata": {},
   "source": [
    "**Example:** Select all versions of the OSM object with ID 'way/25205983'."
   ]
  },
  {
   "cell_type": "code",
   "execution_count": 32,
   "metadata": {},
   "outputs": [
    {
     "data": {
      "text/html": [
       "<div>\n",
       "<style scoped>\n",
       "    .dataframe tbody tr th:only-of-type {\n",
       "        vertical-align: middle;\n",
       "    }\n",
       "\n",
       "    .dataframe tbody tr th {\n",
       "        vertical-align: top;\n",
       "    }\n",
       "\n",
       "    .dataframe thead th {\n",
       "        text-align: right;\n",
       "    }\n",
       "</style>\n",
       "<table border=\"1\" class=\"dataframe\">\n",
       "  <thead>\n",
       "    <tr style=\"text-align: right;\">\n",
       "      <th></th>\n",
       "      <th></th>\n",
       "      <th>geometry</th>\n",
       "      <th>addr:housenumber</th>\n",
       "      <th>building</th>\n",
       "      <th>building:material</th>\n",
       "      <th>addr:city</th>\n",
       "      <th>addr:postcode</th>\n",
       "      <th>addr:province</th>\n",
       "      <th>addr:street</th>\n",
       "      <th>amenity</th>\n",
       "      <th>name</th>\n",
       "      <th>...</th>\n",
       "      <th>fuel:octane_95</th>\n",
       "      <th>atm</th>\n",
       "      <th>wheelchair:toilet</th>\n",
       "      <th>books</th>\n",
       "      <th>shop</th>\n",
       "      <th>university</th>\n",
       "      <th>INF 230</th>\n",
       "      <th>layer</th>\n",
       "      <th>construction</th>\n",
       "      <th>stairwell</th>\n",
       "    </tr>\n",
       "    <tr>\n",
       "      <th>@validFrom</th>\n",
       "      <th>@validTo</th>\n",
       "      <th></th>\n",
       "      <th></th>\n",
       "      <th></th>\n",
       "      <th></th>\n",
       "      <th></th>\n",
       "      <th></th>\n",
       "      <th></th>\n",
       "      <th></th>\n",
       "      <th></th>\n",
       "      <th></th>\n",
       "      <th></th>\n",
       "      <th></th>\n",
       "      <th></th>\n",
       "      <th></th>\n",
       "      <th></th>\n",
       "      <th></th>\n",
       "      <th></th>\n",
       "      <th></th>\n",
       "      <th></th>\n",
       "      <th></th>\n",
       "      <th></th>\n",
       "    </tr>\n",
       "  </thead>\n",
       "  <tbody>\n",
       "    <tr>\n",
       "      <th>2010-01-01 00:00:00</th>\n",
       "      <th>2011-12-14 21:04:31</th>\n",
       "      <td>POLYGON ((8.67312 49.42040, 8.67312 49.42027, ...</td>\n",
       "      <td>535</td>\n",
       "      <td>yes</td>\n",
       "      <td>NaN</td>\n",
       "      <td>NaN</td>\n",
       "      <td>NaN</td>\n",
       "      <td>NaN</td>\n",
       "      <td>Im Neuenheimer Feld</td>\n",
       "      <td>university</td>\n",
       "      <td>Max-Planck-Institut für ausländisches öffentli...</td>\n",
       "      <td>...</td>\n",
       "      <td>NaN</td>\n",
       "      <td>NaN</td>\n",
       "      <td>NaN</td>\n",
       "      <td>NaN</td>\n",
       "      <td>NaN</td>\n",
       "      <td>NaN</td>\n",
       "      <td>NaN</td>\n",
       "      <td>NaN</td>\n",
       "      <td>NaN</td>\n",
       "      <td>NaN</td>\n",
       "    </tr>\n",
       "    <tr>\n",
       "      <th>2011-12-14 21:04:31</th>\n",
       "      <th>2012-02-24 14:17:07</th>\n",
       "      <td>POLYGON ((8.67312 49.42040, 8.67312 49.42027, ...</td>\n",
       "      <td>535</td>\n",
       "      <td>yes</td>\n",
       "      <td>NaN</td>\n",
       "      <td>Heidelberg</td>\n",
       "      <td>NaN</td>\n",
       "      <td>NaN</td>\n",
       "      <td>Im Neuenheimer Feld</td>\n",
       "      <td>university</td>\n",
       "      <td>Max-Planck-Institut für ausländisches öffentli...</td>\n",
       "      <td>...</td>\n",
       "      <td>NaN</td>\n",
       "      <td>NaN</td>\n",
       "      <td>NaN</td>\n",
       "      <td>NaN</td>\n",
       "      <td>NaN</td>\n",
       "      <td>NaN</td>\n",
       "      <td>NaN</td>\n",
       "      <td>NaN</td>\n",
       "      <td>NaN</td>\n",
       "      <td>NaN</td>\n",
       "    </tr>\n",
       "    <tr>\n",
       "      <th>2012-02-24 14:17:07</th>\n",
       "      <th>2012-07-17 05:25:02</th>\n",
       "      <td>POLYGON ((8.67312 49.42040, 8.67312 49.42027, ...</td>\n",
       "      <td>535</td>\n",
       "      <td>yes</td>\n",
       "      <td>NaN</td>\n",
       "      <td>Heidelberg</td>\n",
       "      <td>NaN</td>\n",
       "      <td>NaN</td>\n",
       "      <td>Im Neuenheimer Feld</td>\n",
       "      <td>NaN</td>\n",
       "      <td>Max-Planck-Institut für ausländisches öffentli...</td>\n",
       "      <td>...</td>\n",
       "      <td>NaN</td>\n",
       "      <td>NaN</td>\n",
       "      <td>NaN</td>\n",
       "      <td>NaN</td>\n",
       "      <td>NaN</td>\n",
       "      <td>NaN</td>\n",
       "      <td>NaN</td>\n",
       "      <td>NaN</td>\n",
       "      <td>NaN</td>\n",
       "      <td>NaN</td>\n",
       "    </tr>\n",
       "    <tr>\n",
       "      <th>2012-07-17 05:25:02</th>\n",
       "      <th>2014-05-10 22:08:51</th>\n",
       "      <td>POLYGON ((8.67312 49.42040, 8.67312 49.42027, ...</td>\n",
       "      <td>535</td>\n",
       "      <td>university</td>\n",
       "      <td>NaN</td>\n",
       "      <td>Heidelberg</td>\n",
       "      <td>NaN</td>\n",
       "      <td>NaN</td>\n",
       "      <td>Im Neuenheimer Feld</td>\n",
       "      <td>NaN</td>\n",
       "      <td>Max-Planck-Institut</td>\n",
       "      <td>...</td>\n",
       "      <td>NaN</td>\n",
       "      <td>NaN</td>\n",
       "      <td>NaN</td>\n",
       "      <td>NaN</td>\n",
       "      <td>NaN</td>\n",
       "      <td>NaN</td>\n",
       "      <td>NaN</td>\n",
       "      <td>NaN</td>\n",
       "      <td>NaN</td>\n",
       "      <td>NaN</td>\n",
       "    </tr>\n",
       "    <tr>\n",
       "      <th>2014-05-10 22:08:51</th>\n",
       "      <th>2014-09-07 20:55:18</th>\n",
       "      <td>POLYGON ((8.67312 49.42040, 8.67312 49.42027, ...</td>\n",
       "      <td>535</td>\n",
       "      <td>university</td>\n",
       "      <td>NaN</td>\n",
       "      <td>Heidelberg</td>\n",
       "      <td>NaN</td>\n",
       "      <td>NaN</td>\n",
       "      <td>Im Neuenheimer Feld</td>\n",
       "      <td>NaN</td>\n",
       "      <td>Max-Planck-Institut</td>\n",
       "      <td>...</td>\n",
       "      <td>NaN</td>\n",
       "      <td>NaN</td>\n",
       "      <td>NaN</td>\n",
       "      <td>NaN</td>\n",
       "      <td>NaN</td>\n",
       "      <td>NaN</td>\n",
       "      <td>NaN</td>\n",
       "      <td>NaN</td>\n",
       "      <td>NaN</td>\n",
       "      <td>NaN</td>\n",
       "    </tr>\n",
       "    <tr>\n",
       "      <th>2014-09-07 20:55:18</th>\n",
       "      <th>2015-05-03 10:16:40</th>\n",
       "      <td>POLYGON ((8.67312 49.42040, 8.67312 49.42027, ...</td>\n",
       "      <td>535</td>\n",
       "      <td>university</td>\n",
       "      <td>NaN</td>\n",
       "      <td>Heidelberg</td>\n",
       "      <td>69120</td>\n",
       "      <td>NaN</td>\n",
       "      <td>Im Neuenheimer Feld</td>\n",
       "      <td>NaN</td>\n",
       "      <td>Max-Planck-Institut</td>\n",
       "      <td>...</td>\n",
       "      <td>NaN</td>\n",
       "      <td>NaN</td>\n",
       "      <td>NaN</td>\n",
       "      <td>NaN</td>\n",
       "      <td>NaN</td>\n",
       "      <td>NaN</td>\n",
       "      <td>NaN</td>\n",
       "      <td>NaN</td>\n",
       "      <td>NaN</td>\n",
       "      <td>NaN</td>\n",
       "    </tr>\n",
       "    <tr>\n",
       "      <th>2015-05-03 10:16:40</th>\n",
       "      <th>2016-07-28 15:44:48</th>\n",
       "      <td>POLYGON ((8.67320 49.42040, 8.67320 49.42025, ...</td>\n",
       "      <td>535</td>\n",
       "      <td>university</td>\n",
       "      <td>NaN</td>\n",
       "      <td>Heidelberg</td>\n",
       "      <td>69120</td>\n",
       "      <td>NaN</td>\n",
       "      <td>Im Neuenheimer Feld</td>\n",
       "      <td>NaN</td>\n",
       "      <td>Max-Planck-Institut für ausländisches öffentli...</td>\n",
       "      <td>...</td>\n",
       "      <td>NaN</td>\n",
       "      <td>NaN</td>\n",
       "      <td>NaN</td>\n",
       "      <td>NaN</td>\n",
       "      <td>NaN</td>\n",
       "      <td>NaN</td>\n",
       "      <td>NaN</td>\n",
       "      <td>NaN</td>\n",
       "      <td>NaN</td>\n",
       "      <td>NaN</td>\n",
       "    </tr>\n",
       "    <tr>\n",
       "      <th>2016-07-28 15:44:48</th>\n",
       "      <th>2017-03-30 23:27:51</th>\n",
       "      <td>POLYGON ((8.67320 49.42040, 8.67320 49.42025, ...</td>\n",
       "      <td>535</td>\n",
       "      <td>university</td>\n",
       "      <td>NaN</td>\n",
       "      <td>Heidelberg</td>\n",
       "      <td>69120</td>\n",
       "      <td>NaN</td>\n",
       "      <td>Im Neuenheimer Feld</td>\n",
       "      <td>NaN</td>\n",
       "      <td>Max-Planck-Institut für ausländisches öffentli...</td>\n",
       "      <td>...</td>\n",
       "      <td>NaN</td>\n",
       "      <td>NaN</td>\n",
       "      <td>NaN</td>\n",
       "      <td>NaN</td>\n",
       "      <td>NaN</td>\n",
       "      <td>NaN</td>\n",
       "      <td>NaN</td>\n",
       "      <td>NaN</td>\n",
       "      <td>NaN</td>\n",
       "      <td>NaN</td>\n",
       "    </tr>\n",
       "    <tr>\n",
       "      <th>2017-03-30 23:27:51</th>\n",
       "      <th>2018-01-01 00:00:00</th>\n",
       "      <td>POLYGON ((8.67320 49.42040, 8.67320 49.42025, ...</td>\n",
       "      <td>535</td>\n",
       "      <td>university</td>\n",
       "      <td>NaN</td>\n",
       "      <td>Heidelberg</td>\n",
       "      <td>69120</td>\n",
       "      <td>NaN</td>\n",
       "      <td>Im Neuenheimer Feld</td>\n",
       "      <td>NaN</td>\n",
       "      <td>Max-Planck-Institut für ausländisches öffentli...</td>\n",
       "      <td>...</td>\n",
       "      <td>NaN</td>\n",
       "      <td>NaN</td>\n",
       "      <td>NaN</td>\n",
       "      <td>NaN</td>\n",
       "      <td>NaN</td>\n",
       "      <td>NaN</td>\n",
       "      <td>NaN</td>\n",
       "      <td>NaN</td>\n",
       "      <td>NaN</td>\n",
       "      <td>NaN</td>\n",
       "    </tr>\n",
       "  </tbody>\n",
       "</table>\n",
       "<p>9 rows × 86 columns</p>\n",
       "</div>"
      ],
      "text/plain": [
       "                                                                                  geometry  \\\n",
       "@validFrom          @validTo                                                                 \n",
       "2010-01-01 00:00:00 2011-12-14 21:04:31  POLYGON ((8.67312 49.42040, 8.67312 49.42027, ...   \n",
       "2011-12-14 21:04:31 2012-02-24 14:17:07  POLYGON ((8.67312 49.42040, 8.67312 49.42027, ...   \n",
       "2012-02-24 14:17:07 2012-07-17 05:25:02  POLYGON ((8.67312 49.42040, 8.67312 49.42027, ...   \n",
       "2012-07-17 05:25:02 2014-05-10 22:08:51  POLYGON ((8.67312 49.42040, 8.67312 49.42027, ...   \n",
       "2014-05-10 22:08:51 2014-09-07 20:55:18  POLYGON ((8.67312 49.42040, 8.67312 49.42027, ...   \n",
       "2014-09-07 20:55:18 2015-05-03 10:16:40  POLYGON ((8.67312 49.42040, 8.67312 49.42027, ...   \n",
       "2015-05-03 10:16:40 2016-07-28 15:44:48  POLYGON ((8.67320 49.42040, 8.67320 49.42025, ...   \n",
       "2016-07-28 15:44:48 2017-03-30 23:27:51  POLYGON ((8.67320 49.42040, 8.67320 49.42025, ...   \n",
       "2017-03-30 23:27:51 2018-01-01 00:00:00  POLYGON ((8.67320 49.42040, 8.67320 49.42025, ...   \n",
       "\n",
       "                                        addr:housenumber    building  \\\n",
       "@validFrom          @validTo                                           \n",
       "2010-01-01 00:00:00 2011-12-14 21:04:31              535         yes   \n",
       "2011-12-14 21:04:31 2012-02-24 14:17:07              535         yes   \n",
       "2012-02-24 14:17:07 2012-07-17 05:25:02              535         yes   \n",
       "2012-07-17 05:25:02 2014-05-10 22:08:51              535  university   \n",
       "2014-05-10 22:08:51 2014-09-07 20:55:18              535  university   \n",
       "2014-09-07 20:55:18 2015-05-03 10:16:40              535  university   \n",
       "2015-05-03 10:16:40 2016-07-28 15:44:48              535  university   \n",
       "2016-07-28 15:44:48 2017-03-30 23:27:51              535  university   \n",
       "2017-03-30 23:27:51 2018-01-01 00:00:00              535  university   \n",
       "\n",
       "                                        building:material   addr:city  \\\n",
       "@validFrom          @validTo                                            \n",
       "2010-01-01 00:00:00 2011-12-14 21:04:31               NaN         NaN   \n",
       "2011-12-14 21:04:31 2012-02-24 14:17:07               NaN  Heidelberg   \n",
       "2012-02-24 14:17:07 2012-07-17 05:25:02               NaN  Heidelberg   \n",
       "2012-07-17 05:25:02 2014-05-10 22:08:51               NaN  Heidelberg   \n",
       "2014-05-10 22:08:51 2014-09-07 20:55:18               NaN  Heidelberg   \n",
       "2014-09-07 20:55:18 2015-05-03 10:16:40               NaN  Heidelberg   \n",
       "2015-05-03 10:16:40 2016-07-28 15:44:48               NaN  Heidelberg   \n",
       "2016-07-28 15:44:48 2017-03-30 23:27:51               NaN  Heidelberg   \n",
       "2017-03-30 23:27:51 2018-01-01 00:00:00               NaN  Heidelberg   \n",
       "\n",
       "                                        addr:postcode addr:province  \\\n",
       "@validFrom          @validTo                                          \n",
       "2010-01-01 00:00:00 2011-12-14 21:04:31           NaN           NaN   \n",
       "2011-12-14 21:04:31 2012-02-24 14:17:07           NaN           NaN   \n",
       "2012-02-24 14:17:07 2012-07-17 05:25:02           NaN           NaN   \n",
       "2012-07-17 05:25:02 2014-05-10 22:08:51           NaN           NaN   \n",
       "2014-05-10 22:08:51 2014-09-07 20:55:18           NaN           NaN   \n",
       "2014-09-07 20:55:18 2015-05-03 10:16:40         69120           NaN   \n",
       "2015-05-03 10:16:40 2016-07-28 15:44:48         69120           NaN   \n",
       "2016-07-28 15:44:48 2017-03-30 23:27:51         69120           NaN   \n",
       "2017-03-30 23:27:51 2018-01-01 00:00:00         69120           NaN   \n",
       "\n",
       "                                                 addr:street     amenity  \\\n",
       "@validFrom          @validTo                                               \n",
       "2010-01-01 00:00:00 2011-12-14 21:04:31  Im Neuenheimer Feld  university   \n",
       "2011-12-14 21:04:31 2012-02-24 14:17:07  Im Neuenheimer Feld  university   \n",
       "2012-02-24 14:17:07 2012-07-17 05:25:02  Im Neuenheimer Feld         NaN   \n",
       "2012-07-17 05:25:02 2014-05-10 22:08:51  Im Neuenheimer Feld         NaN   \n",
       "2014-05-10 22:08:51 2014-09-07 20:55:18  Im Neuenheimer Feld         NaN   \n",
       "2014-09-07 20:55:18 2015-05-03 10:16:40  Im Neuenheimer Feld         NaN   \n",
       "2015-05-03 10:16:40 2016-07-28 15:44:48  Im Neuenheimer Feld         NaN   \n",
       "2016-07-28 15:44:48 2017-03-30 23:27:51  Im Neuenheimer Feld         NaN   \n",
       "2017-03-30 23:27:51 2018-01-01 00:00:00  Im Neuenheimer Feld         NaN   \n",
       "\n",
       "                                                                                      name  \\\n",
       "@validFrom          @validTo                                                                 \n",
       "2010-01-01 00:00:00 2011-12-14 21:04:31  Max-Planck-Institut für ausländisches öffentli...   \n",
       "2011-12-14 21:04:31 2012-02-24 14:17:07  Max-Planck-Institut für ausländisches öffentli...   \n",
       "2012-02-24 14:17:07 2012-07-17 05:25:02  Max-Planck-Institut für ausländisches öffentli...   \n",
       "2012-07-17 05:25:02 2014-05-10 22:08:51                                Max-Planck-Institut   \n",
       "2014-05-10 22:08:51 2014-09-07 20:55:18                                Max-Planck-Institut   \n",
       "2014-09-07 20:55:18 2015-05-03 10:16:40                                Max-Planck-Institut   \n",
       "2015-05-03 10:16:40 2016-07-28 15:44:48  Max-Planck-Institut für ausländisches öffentli...   \n",
       "2016-07-28 15:44:48 2017-03-30 23:27:51  Max-Planck-Institut für ausländisches öffentli...   \n",
       "2017-03-30 23:27:51 2018-01-01 00:00:00  Max-Planck-Institut für ausländisches öffentli...   \n",
       "\n",
       "                                         ... fuel:octane_95  atm  \\\n",
       "@validFrom          @validTo             ...                       \n",
       "2010-01-01 00:00:00 2011-12-14 21:04:31  ...            NaN  NaN   \n",
       "2011-12-14 21:04:31 2012-02-24 14:17:07  ...            NaN  NaN   \n",
       "2012-02-24 14:17:07 2012-07-17 05:25:02  ...            NaN  NaN   \n",
       "2012-07-17 05:25:02 2014-05-10 22:08:51  ...            NaN  NaN   \n",
       "2014-05-10 22:08:51 2014-09-07 20:55:18  ...            NaN  NaN   \n",
       "2014-09-07 20:55:18 2015-05-03 10:16:40  ...            NaN  NaN   \n",
       "2015-05-03 10:16:40 2016-07-28 15:44:48  ...            NaN  NaN   \n",
       "2016-07-28 15:44:48 2017-03-30 23:27:51  ...            NaN  NaN   \n",
       "2017-03-30 23:27:51 2018-01-01 00:00:00  ...            NaN  NaN   \n",
       "\n",
       "                                        wheelchair:toilet books shop  \\\n",
       "@validFrom          @validTo                                           \n",
       "2010-01-01 00:00:00 2011-12-14 21:04:31               NaN   NaN  NaN   \n",
       "2011-12-14 21:04:31 2012-02-24 14:17:07               NaN   NaN  NaN   \n",
       "2012-02-24 14:17:07 2012-07-17 05:25:02               NaN   NaN  NaN   \n",
       "2012-07-17 05:25:02 2014-05-10 22:08:51               NaN   NaN  NaN   \n",
       "2014-05-10 22:08:51 2014-09-07 20:55:18               NaN   NaN  NaN   \n",
       "2014-09-07 20:55:18 2015-05-03 10:16:40               NaN   NaN  NaN   \n",
       "2015-05-03 10:16:40 2016-07-28 15:44:48               NaN   NaN  NaN   \n",
       "2016-07-28 15:44:48 2017-03-30 23:27:51               NaN   NaN  NaN   \n",
       "2017-03-30 23:27:51 2018-01-01 00:00:00               NaN   NaN  NaN   \n",
       "\n",
       "                                        university INF 230 layer construction  \\\n",
       "@validFrom          @validTo                                                    \n",
       "2010-01-01 00:00:00 2011-12-14 21:04:31        NaN     NaN   NaN          NaN   \n",
       "2011-12-14 21:04:31 2012-02-24 14:17:07        NaN     NaN   NaN          NaN   \n",
       "2012-02-24 14:17:07 2012-07-17 05:25:02        NaN     NaN   NaN          NaN   \n",
       "2012-07-17 05:25:02 2014-05-10 22:08:51        NaN     NaN   NaN          NaN   \n",
       "2014-05-10 22:08:51 2014-09-07 20:55:18        NaN     NaN   NaN          NaN   \n",
       "2014-09-07 20:55:18 2015-05-03 10:16:40        NaN     NaN   NaN          NaN   \n",
       "2015-05-03 10:16:40 2016-07-28 15:44:48        NaN     NaN   NaN          NaN   \n",
       "2016-07-28 15:44:48 2017-03-30 23:27:51        NaN     NaN   NaN          NaN   \n",
       "2017-03-30 23:27:51 2018-01-01 00:00:00        NaN     NaN   NaN          NaN   \n",
       "\n",
       "                                        stairwell  \n",
       "@validFrom          @validTo                       \n",
       "2010-01-01 00:00:00 2011-12-14 21:04:31       NaN  \n",
       "2011-12-14 21:04:31 2012-02-24 14:17:07       NaN  \n",
       "2012-02-24 14:17:07 2012-07-17 05:25:02       NaN  \n",
       "2012-07-17 05:25:02 2014-05-10 22:08:51       NaN  \n",
       "2014-05-10 22:08:51 2014-09-07 20:55:18       NaN  \n",
       "2014-09-07 20:55:18 2015-05-03 10:16:40       NaN  \n",
       "2015-05-03 10:16:40 2016-07-28 15:44:48       NaN  \n",
       "2016-07-28 15:44:48 2017-03-30 23:27:51       NaN  \n",
       "2017-03-30 23:27:51 2018-01-01 00:00:00       NaN  \n",
       "\n",
       "[9 rows x 86 columns]"
      ]
     },
     "execution_count": 32,
     "metadata": {},
     "output_type": "execute_result"
    }
   ],
   "source": [
    "buildings_history.loc[\"way/25205983\",:]"
   ]
  },
  {
   "cell_type": "markdown",
   "metadata": {},
   "source": [
    "**Example:** Selecting all versions which have been created in 2015:"
   ]
  },
  {
   "cell_type": "code",
   "execution_count": 33,
   "metadata": {},
   "outputs": [],
   "source": [
    "selected = buildings_history.loc[(slice(None), \n",
    "                                    slice(\"2015-01-01\",\"2015-12-31\"), \n",
    "                                    slice(None)),:]"
   ]
  },
  {
   "cell_type": "code",
   "execution_count": 34,
   "metadata": {},
   "outputs": [
    {
     "data": {
      "text/plain": [
       "<matplotlib.axes._subplots.AxesSubplot at 0x7feaf2f3d490>"
      ]
     },
     "execution_count": 34,
     "metadata": {},
     "output_type": "execute_result"
    },
    {
     "data": {
      "image/png": "[encoded data removed]",
      "text/plain": [
       "<Figure size 432x288 with 1 Axes>"
      ]
     },
     "metadata": {
      "needs_background": "light"
     },
     "output_type": "display_data"
    }
   ],
   "source": [
    "selected.plot()"
   ]
  }
 ],
 "metadata": {
  "kernelspec": {
   "display_name": "Python (ohsome-dev)",
   "language": "python",
   "name": "ohsomedev"
  },
  "language_info": {
   "codemirror_mode": {
    "name": "ipython",
    "version": 3
   },
   "file_extension": ".py",
   "mimetype": "text/x-python",
   "name": "python",
   "nbconvert_exporter": "python",
   "pygments_lexer": "ipython3",
   "version": "3.8.6"
  }
 },
 "nbformat": 4,
 "nbformat_minor": 2
}
